{
 "cells": [
  {
   "cell_type": "markdown",
   "id": "b714bc64-7d18-4cb7-9dc5-ebbe9567690d",
   "metadata": {},
   "source": [
    "# Social Media Engagement Dataset - Exploratory and Descriptive Analysis\n",
    "\n",
    "This notebook is focused on the exploratory and descriptive analysis of the cleaned version of the Social Media Engagement Dataset."
   ]
  },
  {
   "cell_type": "markdown",
   "id": "65911e40-5a2a-4d2e-8ca5-dc65356d197b",
   "metadata": {},
   "source": [
    "#### The code snippet imports necessary libraries for data analysis and visualization in Python. `pandas` (imported as `pd`) and `numpy` (imported as `np`) are fundamental for data manipulation and numerical operations, respectively. `os` is imported to handle operating system functionalities, and `plotly.express` (imported as `px`) is used for interactive plotting, making it easy to create visually appealing charts and graphs directly from data frames.\n"
   ]
  },
  {
   "cell_type": "code",
   "execution_count": 2,
   "id": "034093f8-6282-43a7-8f87-b337186797be",
   "metadata": {},
   "outputs": [],
   "source": [
    "\n",
    "import pandas as pd \n",
    "import numpy as np \n",
    "import os\n",
    "import plotly.express as px"
   ]
  },
  {
   "cell_type": "markdown",
   "id": "2a32cc33-7dbc-43fd-aaa8-d682d0ebbed6",
   "metadata": {},
   "source": [
    "## Define and Create Paths."
   ]
  },
  {
   "cell_type": "code",
   "execution_count": 10,
   "id": "11b1e129-3ae0-4649-aac3-e2303a837dda",
   "metadata": {},
   "outputs": [],
   "source": [
    "# Get working directory \n",
    "current_dir = os.getcwd()\n",
    "# Go one directory up to the root directory\n",
    "project_root_dir = os.path.dirname(current_dir)\n",
    "# Define paths to the data files\n",
    "data_dir = os.path.join(project_root_dir,'data')\n",
    "raw_dir = os.path.join(data_dir,'raw')\n",
    "processed_dir = os.path.join(data_dir,'processed')\n",
    "#Define path to results folder\n",
    "results_dir = os.path.join(project_root_dir, 'results')\n",
    "# Define paths to results folder\n",
    "docs_dir = os.path.join(project_root_dir,'docs')\n",
    "\n",
    "# create directories if they do not exist\n",
    "os.makedirs(results_dir, exist_ok= True)"
   ]
  },
  {
   "cell_type": "markdown",
   "id": "bc6ee713-3dcd-4b90-a0d6-0cc26314745c",
   "metadata": {},
   "source": [
    "## Read in the data\n",
    "\n",
    "Load the Cleaned Dataset\n",
    "This cell loads the cleaned social media dataset from a specified CSV file path into a pandas DataFrame. It includes error handling to check if the file exists before attempting to read it."
   ]
  },
  {
   "cell_type": "markdown",
   "id": "79ea279b-ed7e-4f80-a212-f07069197e52",
   "metadata": {},
   "source": [
    "### Display the First 10 Rows\n",
    "This cell displays the first 10 rows of the loaded DataFrame using the .head() method. This is a quick way to inspect the structure and content of the data."
   ]
  },
  {
   "cell_type": "code",
   "execution_count": 13,
   "id": "9973d3e0-4292-4b39-8fb4-c68325f6a42f",
   "metadata": {},
   "outputs": [],
   "source": [
    "import os\n",
    "import pandas as pd\n",
    "\n",
    "# Correct directory path\n",
    "processed_dir = r'C:\\Users\\educa\\Downloads\\social media\\Social_Media_work'\n",
    "\n",
    "# Full path to the CSV file\n",
    "social_media_data_filename = os.path.join(processed_dir, \"social_media_cleaned_dataset.csv\")\n",
    "\n",
    "# Read the CSV file into a pandas DataFrame\n",
    "try:\n",
    "    social_media_df = pd.read_csv(social_media_data_filename)\n",
    "\n",
    "except FileNotFoundError:\n",
    "    print(f\"File {social_media_data_filename} not found. Please check the file path.\")\n"
   ]
  },
  {
   "cell_type": "code",
   "execution_count": 14,
   "id": "1a2dcfc7-3953-4fee-b1b7-e569cfc69460",
   "metadata": {},
   "outputs": [
    {
     "data": {
      "text/html": [
       "<div>\n",
       "<style scoped>\n",
       "    .dataframe tbody tr th:only-of-type {\n",
       "        vertical-align: middle;\n",
       "    }\n",
       "\n",
       "    .dataframe tbody tr th {\n",
       "        vertical-align: top;\n",
       "    }\n",
       "\n",
       "    .dataframe thead th {\n",
       "        text-align: right;\n",
       "    }\n",
       "</style>\n",
       "<table border=\"1\" class=\"dataframe\">\n",
       "  <thead>\n",
       "    <tr style=\"text-align: right;\">\n",
       "      <th></th>\n",
       "      <th>post_id</th>\n",
       "      <th>day_of_week</th>\n",
       "      <th>platform</th>\n",
       "      <th>user_id</th>\n",
       "      <th>location</th>\n",
       "      <th>language</th>\n",
       "      <th>text_content</th>\n",
       "      <th>hashtags</th>\n",
       "      <th>mentions</th>\n",
       "      <th>keywords</th>\n",
       "      <th>...</th>\n",
       "      <th>engagement_rate</th>\n",
       "      <th>brand_name</th>\n",
       "      <th>product_name</th>\n",
       "      <th>campaign_name</th>\n",
       "      <th>campaign_phase</th>\n",
       "      <th>user_past_sentiment_avg</th>\n",
       "      <th>user_engagement_growth</th>\n",
       "      <th>buzz_change_rate</th>\n",
       "      <th>post_date</th>\n",
       "      <th>post_time</th>\n",
       "    </tr>\n",
       "  </thead>\n",
       "  <tbody>\n",
       "    <tr>\n",
       "      <th>0</th>\n",
       "      <td>kcqbs6hxybia</td>\n",
       "      <td>Monday</td>\n",
       "      <td>Instagram</td>\n",
       "      <td>user_52nwb0a6</td>\n",
       "      <td>Melbourne, Australia</td>\n",
       "      <td>Portuguese</td>\n",
       "      <td>Just tried the Chromebook from Google. Best pu...</td>\n",
       "      <td>#Food</td>\n",
       "      <td>unknown</td>\n",
       "      <td>price, unique, traditional, efficient</td>\n",
       "      <td>...</td>\n",
       "      <td>0.19319</td>\n",
       "      <td>Google</td>\n",
       "      <td>Chromebook</td>\n",
       "      <td>BlackFriday</td>\n",
       "      <td>Launch</td>\n",
       "      <td>0.0953</td>\n",
       "      <td>-0.3672</td>\n",
       "      <td>19.1</td>\n",
       "      <td>2024-12-09</td>\n",
       "      <td>11:26:00</td>\n",
       "    </tr>\n",
       "    <tr>\n",
       "      <th>1</th>\n",
       "      <td>vkmervg4ioos</td>\n",
       "      <td>Sunday</td>\n",
       "      <td>Twitter</td>\n",
       "      <td>user_ucryct98</td>\n",
       "      <td>Tokyo, Japan</td>\n",
       "      <td>Russian</td>\n",
       "      <td>Just saw an ad for Microsoft Surface Laptop du...</td>\n",
       "      <td>#MustHave, #Food</td>\n",
       "      <td>@CustomerService, @BrandCEO</td>\n",
       "      <td>delivery, slow</td>\n",
       "      <td>...</td>\n",
       "      <td>0.05086</td>\n",
       "      <td>Microsoft</td>\n",
       "      <td>Surface Laptop</td>\n",
       "      <td>PowerRelease</td>\n",
       "      <td>Post-Launch</td>\n",
       "      <td>0.1369</td>\n",
       "      <td>-0.4510</td>\n",
       "      <td>-42.6</td>\n",
       "      <td>2024-07-28</td>\n",
       "      <td>19:59:00</td>\n",
       "    </tr>\n",
       "    <tr>\n",
       "      <th>2</th>\n",
       "      <td>memhx4o1x6yu</td>\n",
       "      <td>Saturday</td>\n",
       "      <td>Reddit</td>\n",
       "      <td>user_7rrev126</td>\n",
       "      <td>Beijing, China</td>\n",
       "      <td>Russian</td>\n",
       "      <td>What's your opinion about Nike's Epic React?  ...</td>\n",
       "      <td>#Promo, #Food, #Trending</td>\n",
       "      <td>unknown</td>\n",
       "      <td>reliable, budget, durable, experience</td>\n",
       "      <td>...</td>\n",
       "      <td>0.45425</td>\n",
       "      <td>Nike</td>\n",
       "      <td>Epic React</td>\n",
       "      <td>BlackFriday</td>\n",
       "      <td>Post-Launch</td>\n",
       "      <td>0.2855</td>\n",
       "      <td>-0.4112</td>\n",
       "      <td>17.4</td>\n",
       "      <td>2024-11-23</td>\n",
       "      <td>14:00:00</td>\n",
       "    </tr>\n",
       "    <tr>\n",
       "      <th>3</th>\n",
       "      <td>bhyo6piijqt9</td>\n",
       "      <td>Monday</td>\n",
       "      <td>YouTube</td>\n",
       "      <td>user_4mxuq0ax</td>\n",
       "      <td>Lagos, Nigeria</td>\n",
       "      <td>English</td>\n",
       "      <td>Bummed out with my new Diet Pepsi from Pepsi! ...</td>\n",
       "      <td>#Reviews, #Sustainable</td>\n",
       "      <td>@StyleGuide, @BrandSupport</td>\n",
       "      <td>improved, competitive, luxury, fast</td>\n",
       "      <td>...</td>\n",
       "      <td>0.42293</td>\n",
       "      <td>Pepsi</td>\n",
       "      <td>Diet Pepsi</td>\n",
       "      <td>LaunchWave</td>\n",
       "      <td>Launch</td>\n",
       "      <td>-0.2094</td>\n",
       "      <td>-0.0167</td>\n",
       "      <td>-5.5</td>\n",
       "      <td>2024-09-16</td>\n",
       "      <td>04:35:00</td>\n",
       "    </tr>\n",
       "    <tr>\n",
       "      <th>4</th>\n",
       "      <td>c9dkiomowakt</td>\n",
       "      <td>Thursday</td>\n",
       "      <td>Twitter</td>\n",
       "      <td>user_l1vpox2k</td>\n",
       "      <td>Berlin, Germany</td>\n",
       "      <td>Hindi</td>\n",
       "      <td>Just tried the Corolla from Toyota. Absolutely...</td>\n",
       "      <td>#Health, #Travel</td>\n",
       "      <td>@BrandSupport, @InfluencerName</td>\n",
       "      <td>innovation, budget, helpful, luxury</td>\n",
       "      <td>...</td>\n",
       "      <td>0.08773</td>\n",
       "      <td>Toyota</td>\n",
       "      <td>Corolla</td>\n",
       "      <td>LocalTouchpoints</td>\n",
       "      <td>Launch</td>\n",
       "      <td>0.6867</td>\n",
       "      <td>0.0807</td>\n",
       "      <td>38.8</td>\n",
       "      <td>2024-09-05</td>\n",
       "      <td>21:03:00</td>\n",
       "    </tr>\n",
       "    <tr>\n",
       "      <th>5</th>\n",
       "      <td>e8rzr949rzkr</td>\n",
       "      <td>Sunday</td>\n",
       "      <td>Reddit</td>\n",
       "      <td>user_jzvf44eq</td>\n",
       "      <td>Seoul, South Korea</td>\n",
       "      <td>Portuguese</td>\n",
       "      <td>Nike PowerRelease is subpar! Can't wait to see...</td>\n",
       "      <td>#Discount</td>\n",
       "      <td>unknown</td>\n",
       "      <td>fast, outdated, luxury, disappointing</td>\n",
       "      <td>...</td>\n",
       "      <td>0.64908</td>\n",
       "      <td>Nike</td>\n",
       "      <td>React</td>\n",
       "      <td>CyberMonday</td>\n",
       "      <td>Pre-Launch</td>\n",
       "      <td>0.9095</td>\n",
       "      <td>-0.4563</td>\n",
       "      <td>16.0</td>\n",
       "      <td>2024-07-28</td>\n",
       "      <td>03:21:00</td>\n",
       "    </tr>\n",
       "    <tr>\n",
       "      <th>6</th>\n",
       "      <td>32qywmjy84gk</td>\n",
       "      <td>Wednesday</td>\n",
       "      <td>Instagram</td>\n",
       "      <td>user_hpr07vl1</td>\n",
       "      <td>Madrid, Spain</td>\n",
       "      <td>Japanese</td>\n",
       "      <td>Not sure why with my new Pepsi Wild Cherry fro...</td>\n",
       "      <td>#Quality, #Promo, #Limited</td>\n",
       "      <td>unknown</td>\n",
       "      <td>improved, unique, premium, durable</td>\n",
       "      <td>...</td>\n",
       "      <td>0.16139</td>\n",
       "      <td>Pepsi</td>\n",
       "      <td>Pepsi Wild Cherry</td>\n",
       "      <td>GlobalCampaign</td>\n",
       "      <td>Launch</td>\n",
       "      <td>-0.9263</td>\n",
       "      <td>-0.0810</td>\n",
       "      <td>-13.4</td>\n",
       "      <td>2024-08-21</td>\n",
       "      <td>17:02:00</td>\n",
       "    </tr>\n",
       "    <tr>\n",
       "      <th>7</th>\n",
       "      <td>wu063ci6mizp</td>\n",
       "      <td>Monday</td>\n",
       "      <td>Reddit</td>\n",
       "      <td>user_2es9a4lv</td>\n",
       "      <td>São Paulo, Brazil</td>\n",
       "      <td>Spanish</td>\n",
       "      <td>Just saw an ad for Coca-Cola Coke Zero during ...</td>\n",
       "      <td>#MustHave, #Discount</td>\n",
       "      <td>@MarketingTeam, @InfluencerName</td>\n",
       "      <td>efficient, innovation, performance</td>\n",
       "      <td>...</td>\n",
       "      <td>0.04442</td>\n",
       "      <td>Coca-Cola</td>\n",
       "      <td>Coke Zero</td>\n",
       "      <td>CustomerFirst</td>\n",
       "      <td>Post-Launch</td>\n",
       "      <td>-0.9831</td>\n",
       "      <td>0.2152</td>\n",
       "      <td>89.7</td>\n",
       "      <td>2025-01-27</td>\n",
       "      <td>16:09:00</td>\n",
       "    </tr>\n",
       "    <tr>\n",
       "      <th>8</th>\n",
       "      <td>9q2i3owe4tv9</td>\n",
       "      <td>Friday</td>\n",
       "      <td>Reddit</td>\n",
       "      <td>user_omh7bn2t</td>\n",
       "      <td>Milan, Italy</td>\n",
       "      <td>Russian</td>\n",
       "      <td>Just tried the Coke Zero from Coca-Cola. Absol...</td>\n",
       "      <td>#Deal, #Fashion</td>\n",
       "      <td>@TrendSetter</td>\n",
       "      <td>sustainable, competitive</td>\n",
       "      <td>...</td>\n",
       "      <td>0.03274</td>\n",
       "      <td>Coca-Cola</td>\n",
       "      <td>Coke Zero</td>\n",
       "      <td>SpringBlast2025</td>\n",
       "      <td>Launch</td>\n",
       "      <td>-0.8119</td>\n",
       "      <td>-0.1949</td>\n",
       "      <td>-29.0</td>\n",
       "      <td>2024-11-29</td>\n",
       "      <td>17:03:00</td>\n",
       "    </tr>\n",
       "    <tr>\n",
       "      <th>9</th>\n",
       "      <td>gkyad7r8w6g5</td>\n",
       "      <td>Thursday</td>\n",
       "      <td>YouTube</td>\n",
       "      <td>user_kp84hgj9</td>\n",
       "      <td>Houston, USA</td>\n",
       "      <td>Spanish</td>\n",
       "      <td>My one week review of Google Pixel Watch: Disa...</td>\n",
       "      <td>#Tech, #SpecialOffer</td>\n",
       "      <td>@BrandSupport</td>\n",
       "      <td>disappointing, excellent, cheap</td>\n",
       "      <td>...</td>\n",
       "      <td>0.06759</td>\n",
       "      <td>Google</td>\n",
       "      <td>Pixel Watch</td>\n",
       "      <td>CyberMonday</td>\n",
       "      <td>Launch</td>\n",
       "      <td>-0.1217</td>\n",
       "      <td>0.1390</td>\n",
       "      <td>-56.6</td>\n",
       "      <td>2025-02-27</td>\n",
       "      <td>23:21:00</td>\n",
       "    </tr>\n",
       "  </tbody>\n",
       "</table>\n",
       "<p>10 rows × 29 columns</p>\n",
       "</div>"
      ],
      "text/plain": [
       "        post_id day_of_week   platform        user_id              location  \\\n",
       "0  kcqbs6hxybia      Monday  Instagram  user_52nwb0a6  Melbourne, Australia   \n",
       "1  vkmervg4ioos      Sunday    Twitter  user_ucryct98          Tokyo, Japan   \n",
       "2  memhx4o1x6yu    Saturday     Reddit  user_7rrev126        Beijing, China   \n",
       "3  bhyo6piijqt9      Monday    YouTube  user_4mxuq0ax        Lagos, Nigeria   \n",
       "4  c9dkiomowakt    Thursday    Twitter  user_l1vpox2k       Berlin, Germany   \n",
       "5  e8rzr949rzkr      Sunday     Reddit  user_jzvf44eq    Seoul, South Korea   \n",
       "6  32qywmjy84gk   Wednesday  Instagram  user_hpr07vl1         Madrid, Spain   \n",
       "7  wu063ci6mizp      Monday     Reddit  user_2es9a4lv     São Paulo, Brazil   \n",
       "8  9q2i3owe4tv9      Friday     Reddit  user_omh7bn2t          Milan, Italy   \n",
       "9  gkyad7r8w6g5    Thursday    YouTube  user_kp84hgj9          Houston, USA   \n",
       "\n",
       "     language                                       text_content  \\\n",
       "0  Portuguese  Just tried the Chromebook from Google. Best pu...   \n",
       "1     Russian  Just saw an ad for Microsoft Surface Laptop du...   \n",
       "2     Russian  What's your opinion about Nike's Epic React?  ...   \n",
       "3     English  Bummed out with my new Diet Pepsi from Pepsi! ...   \n",
       "4       Hindi  Just tried the Corolla from Toyota. Absolutely...   \n",
       "5  Portuguese  Nike PowerRelease is subpar! Can't wait to see...   \n",
       "6    Japanese  Not sure why with my new Pepsi Wild Cherry fro...   \n",
       "7     Spanish  Just saw an ad for Coca-Cola Coke Zero during ...   \n",
       "8     Russian  Just tried the Coke Zero from Coca-Cola. Absol...   \n",
       "9     Spanish  My one week review of Google Pixel Watch: Disa...   \n",
       "\n",
       "                     hashtags                         mentions  \\\n",
       "0                       #Food                          unknown   \n",
       "1            #MustHave, #Food      @CustomerService, @BrandCEO   \n",
       "2    #Promo, #Food, #Trending                          unknown   \n",
       "3      #Reviews, #Sustainable       @StyleGuide, @BrandSupport   \n",
       "4            #Health, #Travel   @BrandSupport, @InfluencerName   \n",
       "5                   #Discount                          unknown   \n",
       "6  #Quality, #Promo, #Limited                          unknown   \n",
       "7        #MustHave, #Discount  @MarketingTeam, @InfluencerName   \n",
       "8             #Deal, #Fashion                     @TrendSetter   \n",
       "9        #Tech, #SpecialOffer                    @BrandSupport   \n",
       "\n",
       "                                keywords  ... engagement_rate  brand_name  \\\n",
       "0  price, unique, traditional, efficient  ...         0.19319      Google   \n",
       "1                         delivery, slow  ...         0.05086   Microsoft   \n",
       "2  reliable, budget, durable, experience  ...         0.45425        Nike   \n",
       "3    improved, competitive, luxury, fast  ...         0.42293       Pepsi   \n",
       "4    innovation, budget, helpful, luxury  ...         0.08773      Toyota   \n",
       "5  fast, outdated, luxury, disappointing  ...         0.64908        Nike   \n",
       "6     improved, unique, premium, durable  ...         0.16139       Pepsi   \n",
       "7     efficient, innovation, performance  ...         0.04442   Coca-Cola   \n",
       "8               sustainable, competitive  ...         0.03274   Coca-Cola   \n",
       "9        disappointing, excellent, cheap  ...         0.06759      Google   \n",
       "\n",
       "        product_name     campaign_name  campaign_phase  \\\n",
       "0         Chromebook       BlackFriday          Launch   \n",
       "1     Surface Laptop      PowerRelease     Post-Launch   \n",
       "2         Epic React       BlackFriday     Post-Launch   \n",
       "3         Diet Pepsi        LaunchWave          Launch   \n",
       "4            Corolla  LocalTouchpoints          Launch   \n",
       "5              React       CyberMonday      Pre-Launch   \n",
       "6  Pepsi Wild Cherry    GlobalCampaign          Launch   \n",
       "7          Coke Zero     CustomerFirst     Post-Launch   \n",
       "8          Coke Zero   SpringBlast2025          Launch   \n",
       "9        Pixel Watch       CyberMonday          Launch   \n",
       "\n",
       "   user_past_sentiment_avg  user_engagement_growth  buzz_change_rate  \\\n",
       "0                   0.0953                 -0.3672              19.1   \n",
       "1                   0.1369                 -0.4510             -42.6   \n",
       "2                   0.2855                 -0.4112              17.4   \n",
       "3                  -0.2094                 -0.0167              -5.5   \n",
       "4                   0.6867                  0.0807              38.8   \n",
       "5                   0.9095                 -0.4563              16.0   \n",
       "6                  -0.9263                 -0.0810             -13.4   \n",
       "7                  -0.9831                  0.2152              89.7   \n",
       "8                  -0.8119                 -0.1949             -29.0   \n",
       "9                  -0.1217                  0.1390             -56.6   \n",
       "\n",
       "    post_date  post_time  \n",
       "0  2024-12-09   11:26:00  \n",
       "1  2024-07-28   19:59:00  \n",
       "2  2024-11-23   14:00:00  \n",
       "3  2024-09-16   04:35:00  \n",
       "4  2024-09-05   21:03:00  \n",
       "5  2024-07-28   03:21:00  \n",
       "6  2024-08-21   17:02:00  \n",
       "7  2025-01-27   16:09:00  \n",
       "8  2024-11-29   17:03:00  \n",
       "9  2025-02-27   23:21:00  \n",
       "\n",
       "[10 rows x 29 columns]"
      ]
     },
     "execution_count": 14,
     "metadata": {},
     "output_type": "execute_result"
    }
   ],
   "source": [
    "social_media_df.head(10)\n"
   ]
  },
  {
   "cell_type": "markdown",
   "id": "be9cd0d3-cc64-41f8-abfd-d01929e28b65",
   "metadata": {},
   "source": [
    "## check the shape of the dataset and datatypes\n",
    "\n",
    "This cell outputs the dimensions of the DataFrame (number of rows and columns) using the .shape attribute. This gives an overview of the dataset's size."
   ]
  },
  {
   "cell_type": "code",
   "execution_count": 8,
   "id": "9c783db2-c310-4e24-a749-dd033c250fd1",
   "metadata": {},
   "outputs": [
    {
     "data": {
      "text/plain": [
       "(12000, 29)"
      ]
     },
     "execution_count": 8,
     "metadata": {},
     "output_type": "execute_result"
    }
   ],
   "source": [
    "social_media_df.shape"
   ]
  },
  {
   "cell_type": "markdown",
   "id": "b7b0e278-f918-41a2-b7c5-7729febd5826",
   "metadata": {},
   "source": [
    "### Get DataFrame Information\n",
    "\n",
    "This cell provides a concise summary of the DataFrame using the .info() method. It includes the index dtype and column dtypes, non-null values, and memory usage. This is useful for understanding the data types and identifying missing values."
   ]
  },
  {
   "cell_type": "code",
   "execution_count": 15,
   "id": "c5598172-52d5-42d6-8eb7-633195592293",
   "metadata": {},
   "outputs": [
    {
     "data": {
      "text/plain": [
       "<bound method DataFrame.info of             post_id day_of_week   platform        user_id  \\\n",
       "0      kcqbs6hxybia      Monday  Instagram  user_52nwb0a6   \n",
       "1      vkmervg4ioos      Sunday    Twitter  user_ucryct98   \n",
       "2      memhx4o1x6yu    Saturday     Reddit  user_7rrev126   \n",
       "3      bhyo6piijqt9      Monday    YouTube  user_4mxuq0ax   \n",
       "4      c9dkiomowakt    Thursday    Twitter  user_l1vpox2k   \n",
       "...             ...         ...        ...            ...   \n",
       "11995  vpqni584supc      Friday  Instagram  user_ysobum87   \n",
       "11996  h8rvov0xym5z   Wednesday     Reddit  user_2jzngfsp   \n",
       "11997  14zrjm51ea3y    Thursday   Facebook  user_0sidyfyh   \n",
       "11998  7bdmnv3rdj8n     Tuesday     Reddit  user_njyhr041   \n",
       "11999  28cbflmapxbj   Wednesday     Reddit  user_gbxy87di   \n",
       "\n",
       "                   location    language  \\\n",
       "0      Melbourne, Australia  Portuguese   \n",
       "1              Tokyo, Japan     Russian   \n",
       "2            Beijing, China     Russian   \n",
       "3            Lagos, Nigeria     English   \n",
       "4           Berlin, Germany       Hindi   \n",
       "...                     ...         ...   \n",
       "11995    Seoul, South Korea      Arabic   \n",
       "11996         New York, USA  Portuguese   \n",
       "11997          Lyon, France    Japanese   \n",
       "11998        Manchester, UK      French   \n",
       "11999          Tokyo, Japan     Chinese   \n",
       "\n",
       "                                            text_content  \\\n",
       "0      Just tried the Chromebook from Google. Best pu...   \n",
       "1      Just saw an ad for Microsoft Surface Laptop du...   \n",
       "2      What's your opinion about Nike's Epic React?  ...   \n",
       "3      Bummed out with my new Diet Pepsi from Pepsi! ...   \n",
       "4      Just tried the Corolla from Toyota. Absolutely...   \n",
       "...                                                  ...   \n",
       "11995  Comparing Toyota Camry to the competition. Bes...   \n",
       "11996  My two days review of Apple AirPods Pro: Highl...   \n",
       "11997  Just unboxed my new Dri-FIT from Nike. Best pu...   \n",
       "11998  Comparing Toyota Camry to the competition. Doe...   \n",
       "11999  Just saw an ad for Apple iMac during the Innov...   \n",
       "\n",
       "                              hashtags                          mentions  \\\n",
       "0                                #Food                           unknown   \n",
       "1                     #MustHave, #Food       @CustomerService, @BrandCEO   \n",
       "2             #Promo, #Food, #Trending                           unknown   \n",
       "3               #Reviews, #Sustainable        @StyleGuide, @BrandSupport   \n",
       "4                     #Health, #Travel    @BrandSupport, @InfluencerName   \n",
       "...                                ...                               ...   \n",
       "11995                #Food, #BestValue  @IndustryExpert, @InfluencerName   \n",
       "11996                      #TrendAlert         @TrendSetter, @NewsOutlet   \n",
       "11997                            #Food         @RetailSupport, @TechHelp   \n",
       "11998  #SpecialOffer, #Promo, #Fashion          @BrandSupport, @TechHelp   \n",
       "11999                  #Sale, #Fitness                    @MarketingTeam   \n",
       "\n",
       "                                    keywords  ... engagement_rate  brand_name  \\\n",
       "0      price, unique, traditional, efficient  ...         0.19319      Google   \n",
       "1                             delivery, slow  ...         0.05086   Microsoft   \n",
       "2      reliable, budget, durable, experience  ...         0.45425        Nike   \n",
       "3        improved, competitive, luxury, fast  ...         0.42293       Pepsi   \n",
       "4        innovation, budget, helpful, luxury  ...         0.08773      Toyota   \n",
       "...                                      ...  ...             ...         ...   \n",
       "11995                     efficient, service  ...        22.08636      Toyota   \n",
       "11996     responsive, user-friendly, service  ...         0.20546       Apple   \n",
       "11997            excellent, upgraded, luxury  ...         0.05342        Nike   \n",
       "11998            price, stylish, sustainable  ...         0.04732      Toyota   \n",
       "11999       service, sustainable, experience  ...         0.01828       Apple   \n",
       "\n",
       "         product_name     campaign_name  campaign_phase  \\\n",
       "0          Chromebook       BlackFriday          Launch   \n",
       "1      Surface Laptop      PowerRelease     Post-Launch   \n",
       "2          Epic React       BlackFriday     Post-Launch   \n",
       "3          Diet Pepsi        LaunchWave          Launch   \n",
       "4             Corolla  LocalTouchpoints          Launch   \n",
       "...               ...               ...             ...   \n",
       "11995           Camry     CustomerFirst      Pre-Launch   \n",
       "11996     AirPods Pro    FallCollection          Launch   \n",
       "11997         Dri-FIT  LocalTouchpoints     Post-Launch   \n",
       "11998           Camry       CyberMonday     Post-Launch   \n",
       "11999            iMac   SpringBlast2025          Launch   \n",
       "\n",
       "       user_past_sentiment_avg  user_engagement_growth  buzz_change_rate  \\\n",
       "0                       0.0953                 -0.3672              19.1   \n",
       "1                       0.1369                 -0.4510             -42.6   \n",
       "2                       0.2855                 -0.4112              17.4   \n",
       "3                      -0.2094                 -0.0167              -5.5   \n",
       "4                       0.6867                  0.0807              38.8   \n",
       "...                        ...                     ...               ...   \n",
       "11995                  -0.0299                  0.0205              -6.0   \n",
       "11996                   0.5936                 -0.0928             -92.1   \n",
       "11997                   0.0899                 -0.1186             -96.8   \n",
       "11998                  -0.3666                 -0.4527              15.9   \n",
       "11999                   0.3128                  0.3859             -23.5   \n",
       "\n",
       "        post_date  post_time  \n",
       "0      2024-12-09   11:26:00  \n",
       "1      2024-07-28   19:59:00  \n",
       "2      2024-11-23   14:00:00  \n",
       "3      2024-09-16   04:35:00  \n",
       "4      2024-09-05   21:03:00  \n",
       "...           ...        ...  \n",
       "11995  2025-01-10   07:55:00  \n",
       "11996  2024-12-04   18:50:00  \n",
       "11997  2024-10-24   19:11:00  \n",
       "11998  2024-11-12   03:07:00  \n",
       "11999  2024-05-15   20:07:00  \n",
       "\n",
       "[12000 rows x 29 columns]>"
      ]
     },
     "execution_count": 15,
     "metadata": {},
     "output_type": "execute_result"
    }
   ],
   "source": [
    "social_media_df.info"
   ]
  },
  {
   "cell_type": "markdown",
   "id": "5457ecd2-93fb-4cf7-85be-ad82b6462464",
   "metadata": {},
   "source": [
    "### Check Unique Post IDs\n",
    "\n",
    "This cell finds and displays the unique values in the 'post_id' column using np.unique(). This helps in understanding the variety of post identifiers in the dataset."
   ]
  },
  {
   "cell_type": "code",
   "execution_count": 17,
   "id": "07bad91e-4a3e-4f85-99be-5ec8464f22f4",
   "metadata": {},
   "outputs": [
    {
     "data": {
      "text/plain": [
       "array(['003s4ulm32tk', '003yqlh86w25', '005g54tmt26m', ...,\n",
       "       'zzkznn0ilgk2', 'zzpafpna0dr3', 'zzpwzzwupl6p'], dtype='<U12')"
      ]
     },
     "execution_count": 17,
     "metadata": {},
     "output_type": "execute_result"
    }
   ],
   "source": [
    "np.unique(social_media_df.post_id.to_list())"
   ]
  },
  {
   "cell_type": "markdown",
   "id": "fbc9fb86-7006-4e11-a254-f81c87eb06a7",
   "metadata": {},
   "source": [
    "### Check Unique Post Dates\n",
    "\n",
    "This cell finds and displays the unique values in the 'post_date' column using np.unique(). This helps in understanding the range and distribution of post dates in the dataset."
   ]
  },
  {
   "cell_type": "code",
   "execution_count": 18,
   "id": "279e4879-f71d-427f-b5de-d4bec8ff4840",
   "metadata": {},
   "outputs": [
    {
     "data": {
      "text/plain": [
       "array(['2024-05-01', '2024-05-02', '2024-05-03', '2024-05-04',\n",
       "       '2024-05-05', '2024-05-06', '2024-05-07', '2024-05-08',\n",
       "       '2024-05-09', '2024-05-10', '2024-05-11', '2024-05-12',\n",
       "       '2024-05-13', '2024-05-14', '2024-05-15', '2024-05-16',\n",
       "       '2024-05-17', '2024-05-18', '2024-05-19', '2024-05-20',\n",
       "       '2024-05-21', '2024-05-22', '2024-05-23', '2024-05-24',\n",
       "       '2024-05-25', '2024-05-26', '2024-05-27', '2024-05-28',\n",
       "       '2024-05-29', '2024-05-30', '2024-05-31', '2024-06-01',\n",
       "       '2024-06-02', '2024-06-03', '2024-06-04', '2024-06-05',\n",
       "       '2024-06-06', '2024-06-07', '2024-06-08', '2024-06-09',\n",
       "       '2024-06-10', '2024-06-11', '2024-06-12', '2024-06-13',\n",
       "       '2024-06-14', '2024-06-15', '2024-06-16', '2024-06-17',\n",
       "       '2024-06-18', '2024-06-19', '2024-06-20', '2024-06-21',\n",
       "       '2024-06-22', '2024-06-23', '2024-06-24', '2024-06-25',\n",
       "       '2024-06-26', '2024-06-27', '2024-06-28', '2024-06-29',\n",
       "       '2024-06-30', '2024-07-01', '2024-07-02', '2024-07-03',\n",
       "       '2024-07-04', '2024-07-05', '2024-07-06', '2024-07-07',\n",
       "       '2024-07-08', '2024-07-09', '2024-07-10', '2024-07-11',\n",
       "       '2024-07-12', '2024-07-13', '2024-07-14', '2024-07-15',\n",
       "       '2024-07-16', '2024-07-17', '2024-07-18', '2024-07-19',\n",
       "       '2024-07-20', '2024-07-21', '2024-07-22', '2024-07-23',\n",
       "       '2024-07-24', '2024-07-25', '2024-07-26', '2024-07-27',\n",
       "       '2024-07-28', '2024-07-29', '2024-07-30', '2024-07-31',\n",
       "       '2024-08-01', '2024-08-02', '2024-08-03', '2024-08-04',\n",
       "       '2024-08-05', '2024-08-06', '2024-08-07', '2024-08-08',\n",
       "       '2024-08-09', '2024-08-10', '2024-08-11', '2024-08-12',\n",
       "       '2024-08-13', '2024-08-14', '2024-08-15', '2024-08-16',\n",
       "       '2024-08-17', '2024-08-18', '2024-08-19', '2024-08-20',\n",
       "       '2024-08-21', '2024-08-22', '2024-08-23', '2024-08-24',\n",
       "       '2024-08-25', '2024-08-26', '2024-08-27', '2024-08-28',\n",
       "       '2024-08-29', '2024-08-30', '2024-08-31', '2024-09-01',\n",
       "       '2024-09-02', '2024-09-03', '2024-09-04', '2024-09-05',\n",
       "       '2024-09-06', '2024-09-07', '2024-09-08', '2024-09-09',\n",
       "       '2024-09-10', '2024-09-11', '2024-09-12', '2024-09-13',\n",
       "       '2024-09-14', '2024-09-15', '2024-09-16', '2024-09-17',\n",
       "       '2024-09-18', '2024-09-19', '2024-09-20', '2024-09-21',\n",
       "       '2024-09-22', '2024-09-23', '2024-09-24', '2024-09-25',\n",
       "       '2024-09-26', '2024-09-27', '2024-09-28', '2024-09-29',\n",
       "       '2024-09-30', '2024-10-01', '2024-10-02', '2024-10-03',\n",
       "       '2024-10-04', '2024-10-05', '2024-10-06', '2024-10-07',\n",
       "       '2024-10-08', '2024-10-09', '2024-10-10', '2024-10-11',\n",
       "       '2024-10-12', '2024-10-13', '2024-10-14', '2024-10-15',\n",
       "       '2024-10-16', '2024-10-17', '2024-10-18', '2024-10-19',\n",
       "       '2024-10-20', '2024-10-21', '2024-10-22', '2024-10-23',\n",
       "       '2024-10-24', '2024-10-25', '2024-10-26', '2024-10-27',\n",
       "       '2024-10-28', '2024-10-29', '2024-10-30', '2024-10-31',\n",
       "       '2024-11-01', '2024-11-02', '2024-11-03', '2024-11-04',\n",
       "       '2024-11-05', '2024-11-06', '2024-11-07', '2024-11-08',\n",
       "       '2024-11-09', '2024-11-10', '2024-11-11', '2024-11-12',\n",
       "       '2024-11-13', '2024-11-14', '2024-11-15', '2024-11-16',\n",
       "       '2024-11-17', '2024-11-18', '2024-11-19', '2024-11-20',\n",
       "       '2024-11-21', '2024-11-22', '2024-11-23', '2024-11-24',\n",
       "       '2024-11-25', '2024-11-26', '2024-11-27', '2024-11-28',\n",
       "       '2024-11-29', '2024-11-30', '2024-12-01', '2024-12-02',\n",
       "       '2024-12-03', '2024-12-04', '2024-12-05', '2024-12-06',\n",
       "       '2024-12-07', '2024-12-08', '2024-12-09', '2024-12-10',\n",
       "       '2024-12-11', '2024-12-12', '2024-12-13', '2024-12-14',\n",
       "       '2024-12-15', '2024-12-16', '2024-12-17', '2024-12-18',\n",
       "       '2024-12-19', '2024-12-20', '2024-12-21', '2024-12-22',\n",
       "       '2024-12-23', '2024-12-24', '2024-12-25', '2024-12-26',\n",
       "       '2024-12-27', '2024-12-28', '2024-12-29', '2024-12-30',\n",
       "       '2024-12-31', '2025-01-01', '2025-01-02', '2025-01-03',\n",
       "       '2025-01-04', '2025-01-05', '2025-01-06', '2025-01-07',\n",
       "       '2025-01-08', '2025-01-09', '2025-01-10', '2025-01-11',\n",
       "       '2025-01-12', '2025-01-13', '2025-01-14', '2025-01-15',\n",
       "       '2025-01-16', '2025-01-17', '2025-01-18', '2025-01-19',\n",
       "       '2025-01-20', '2025-01-21', '2025-01-22', '2025-01-23',\n",
       "       '2025-01-24', '2025-01-25', '2025-01-26', '2025-01-27',\n",
       "       '2025-01-28', '2025-01-29', '2025-01-30', '2025-01-31',\n",
       "       '2025-02-01', '2025-02-02', '2025-02-03', '2025-02-04',\n",
       "       '2025-02-05', '2025-02-06', '2025-02-07', '2025-02-08',\n",
       "       '2025-02-09', '2025-02-10', '2025-02-11', '2025-02-12',\n",
       "       '2025-02-13', '2025-02-14', '2025-02-15', '2025-02-16',\n",
       "       '2025-02-17', '2025-02-18', '2025-02-19', '2025-02-20',\n",
       "       '2025-02-21', '2025-02-22', '2025-02-23', '2025-02-24',\n",
       "       '2025-02-25', '2025-02-26', '2025-02-27', '2025-02-28',\n",
       "       '2025-03-01', '2025-03-02', '2025-03-03', '2025-03-04',\n",
       "       '2025-03-05', '2025-03-06', '2025-03-07', '2025-03-08',\n",
       "       '2025-03-09', '2025-03-10', '2025-03-11', '2025-03-12',\n",
       "       '2025-03-13', '2025-03-14', '2025-03-15', '2025-03-16',\n",
       "       '2025-03-17', '2025-03-18', '2025-03-19', '2025-03-20',\n",
       "       '2025-03-21', '2025-03-22', '2025-03-23', '2025-03-24',\n",
       "       '2025-03-25', '2025-03-26', '2025-03-27', '2025-03-28',\n",
       "       '2025-03-29', '2025-03-30', '2025-03-31', '2025-04-01',\n",
       "       '2025-04-02', '2025-04-03', '2025-04-04', '2025-04-05',\n",
       "       '2025-04-06', '2025-04-07', '2025-04-08', '2025-04-09',\n",
       "       '2025-04-10', '2025-04-11', '2025-04-12', '2025-04-13',\n",
       "       '2025-04-14', '2025-04-15', '2025-04-16', '2025-04-17',\n",
       "       '2025-04-18', '2025-04-19', '2025-04-20', '2025-04-21',\n",
       "       '2025-04-22', '2025-04-23', '2025-04-24', '2025-04-25',\n",
       "       '2025-04-26', '2025-04-27', '2025-04-28', '2025-04-29',\n",
       "       '2025-04-30'], dtype='<U10')"
      ]
     },
     "execution_count": 18,
     "metadata": {},
     "output_type": "execute_result"
    }
   ],
   "source": [
    "np.unique(social_media_df.post_date.to_list())"
   ]
  },
  {
   "cell_type": "markdown",
   "id": "e6170f13-2db2-4ced-8a18-32442e02a9f6",
   "metadata": {},
   "source": [
    "### Check Unique Platforms\n",
    "\n",
    "This cell finds and displays the unique values in the 'platform' column using np.unique(). This helps in identifying all the different social media platforms represented in the dataset."
   ]
  },
  {
   "cell_type": "code",
   "execution_count": 19,
   "id": "0d05d588-59f9-4e5f-893f-b845545bbe19",
   "metadata": {},
   "outputs": [
    {
     "data": {
      "text/plain": [
       "array(['Facebook', 'Instagram', 'Reddit', 'Twitter', 'YouTube'],\n",
       "      dtype='<U9')"
      ]
     },
     "execution_count": 19,
     "metadata": {},
     "output_type": "execute_result"
    }
   ],
   "source": [
    "np.unique(social_media_df.platform.to_list())"
   ]
  },
  {
   "cell_type": "markdown",
   "id": "8c514d86-441c-48ab-8dbe-6fd48e3f0e9a",
   "metadata": {},
   "source": [
    "### Check for Missing Values\n",
    "This cell calculates and displays the number of missing values in each column of the DataFrame using .isnull().sum(). This is crucial for data cleaning and understanding the completeness of the dataset."
   ]
  },
  {
   "cell_type": "code",
   "execution_count": 20,
   "id": "86198df1-3c60-4136-964c-8be1f6261bd7",
   "metadata": {},
   "outputs": [
    {
     "data": {
      "text/plain": [
       "post_id                    0\n",
       "day_of_week                0\n",
       "platform                   0\n",
       "user_id                    0\n",
       "location                   0\n",
       "language                   0\n",
       "text_content               0\n",
       "hashtags                   0\n",
       "mentions                   0\n",
       "keywords                   0\n",
       "topic_category             0\n",
       "sentiment_score            0\n",
       "sentiment_label            0\n",
       "emotion_type               0\n",
       "toxicity_score             0\n",
       "likes_count                0\n",
       "shares_count               0\n",
       "comments_count             0\n",
       "impressions                0\n",
       "engagement_rate            0\n",
       "brand_name                 0\n",
       "product_name               0\n",
       "campaign_name              0\n",
       "campaign_phase             0\n",
       "user_past_sentiment_avg    0\n",
       "user_engagement_growth     0\n",
       "buzz_change_rate           0\n",
       "post_date                  0\n",
       "post_time                  0\n",
       "dtype: int64"
      ]
     },
     "execution_count": 20,
     "metadata": {},
     "output_type": "execute_result"
    }
   ],
   "source": [
    "social_media_df.isnull().sum()"
   ]
  },
  {
   "cell_type": "markdown",
   "id": "75bd297f-4a26-469b-8efa-c6c633ec3237",
   "metadata": {},
   "source": [
    "### Check for Duplicate Rows\n",
    "This cell calculates and displays the number of duplicate rows in the DataFrame using .duplicated().sum(). Identifying and handling duplicates is an important step in data cleaning."
   ]
  },
  {
   "cell_type": "code",
   "execution_count": 21,
   "id": "f2ba4f17-c72f-4984-bbdf-7cb1c90406c6",
   "metadata": {},
   "outputs": [
    {
     "data": {
      "text/plain": [
       "0"
      ]
     },
     "execution_count": 21,
     "metadata": {},
     "output_type": "execute_result"
    }
   ],
   "source": [
    "social_media_df.duplicated().sum()"
   ]
  },
  {
   "cell_type": "markdown",
   "id": "6c638a1c-e79c-40b4-a3b0-35e27c16b364",
   "metadata": {},
   "source": [
    "### Display Column Names\n",
    "This cell displays the names of all columns in the DataFrame using the .columns attribute. This is helpful for referencing column names in subsequent operations."
   ]
  },
  {
   "cell_type": "code",
   "execution_count": 22,
   "id": "658f6e03-21ba-4cc4-950f-fbd6ad86a887",
   "metadata": {},
   "outputs": [
    {
     "data": {
      "text/plain": [
       "Index(['post_id', 'day_of_week', 'platform', 'user_id', 'location', 'language',\n",
       "       'text_content', 'hashtags', 'mentions', 'keywords', 'topic_category',\n",
       "       'sentiment_score', 'sentiment_label', 'emotion_type', 'toxicity_score',\n",
       "       'likes_count', 'shares_count', 'comments_count', 'impressions',\n",
       "       'engagement_rate', 'brand_name', 'product_name', 'campaign_name',\n",
       "       'campaign_phase', 'user_past_sentiment_avg', 'user_engagement_growth',\n",
       "       'buzz_change_rate', 'post_date', 'post_time'],\n",
       "      dtype='object')"
      ]
     },
     "execution_count": 22,
     "metadata": {},
     "output_type": "execute_result"
    }
   ],
   "source": [
    "social_media_df.columns"
   ]
  },
  {
   "cell_type": "markdown",
   "id": "38e93733-06bc-4ef8-868d-134ef224867a",
   "metadata": {},
   "source": [
    "### Visualize Total Impressions over Platform\n",
    "This cell calculates the total impressions for each platform by grouping the data and summing the 'impressions' column. It then creates a bar chart using plotly.express to visualize the total impressions per platform. The chart is customized with titles, colors, and text labels, and saved in multiple formats (JPG, PNG, HTML)."
   ]
  },
  {
   "cell_type": "code",
   "execution_count": 23,
   "id": "f00c0a49-f5de-4796-bb63-829486060c72",
   "metadata": {},
   "outputs": [
    {
     "data": {
      "application/vnd.plotly.v1+json": {
       "config": {
        "plotlyServerURL": "https://plot.ly"
       },
       "data": [
        {
         "hovertemplate": "platform=%{x}<br>impressions=%{text}<extra></extra>",
         "legendgroup": "",
         "marker": {
          "color": "#003f5c",
          "pattern": {
           "shape": ""
          }
         },
         "name": "",
         "orientation": "v",
         "showlegend": false,
         "text": {
          "_inputArray": {
           "0": 122988419,
           "1": 121027500,
           "2": 119567039,
           "3": 117664271,
           "4": 116488833,
           "bdata": "AAAADJ5SnUEAAACw7tqcQQAAAPzKgZxBAAAAPKgNnEEAAAAE6sWbQQ==",
           "dtype": "f8",
           "shape": "5"
          },
          "bdata": "AAAADJ5SnUEAAACw7tqcQQAAAPzKgZxBAAAAPKgNnEEAAAAE6sWbQQ==",
          "dtype": "f8"
         },
         "textposition": "outside",
         "type": "bar",
         "width": 0.6,
         "x": [
          "YouTube",
          "Facebook",
          "Twitter",
          "Instagram",
          "Reddit"
         ],
         "xaxis": "x",
         "y": {
          "_inputArray": {
           "0": 122988419,
           "1": 121027500,
           "2": 119567039,
           "3": 117664271,
           "4": 116488833,
           "bdata": "g6dUB6y7Nge/ciAHD2oDB4F68QY=",
           "dtype": "i4",
           "shape": "5"
          },
          "bdata": "g6dUB6y7Nge/ciAHD2oDB4F68QY=",
          "dtype": "i4"
         },
         "yaxis": "y"
        }
       ],
       "layout": {
        "barmode": "relative",
        "height": 600,
        "legend": {
         "tracegroupgap": 0
        },
        "paper_bgcolor": "rgba(0, 0, 0, 0)",
        "plot_bgcolor": "rgba(0, 0, 0, 0)",
        "template": {
         "data": {
          "pie": [
           {
            "automargin": true,
            "type": "pie"
           }
          ],
          "scatter": [
           {
            "line": {
             "width": 3
            },
            "marker": {
             "size": 9
            },
            "type": "scatter"
           }
          ],
          "scatter3d": [
           {
            "line": {
             "width": 3
            },
            "marker": {
             "size": 9
            },
            "type": "scatter3d"
           }
          ],
          "scattergeo": [
           {
            "line": {
             "width": 3
            },
            "marker": {
             "size": 9
            },
            "type": "scattergeo"
           }
          ],
          "scattergl": [
           {
            "line": {
             "width": 3
            },
            "marker": {
             "size": 9
            },
            "type": "scattergl"
           }
          ],
          "scatterpolar": [
           {
            "line": {
             "width": 3
            },
            "marker": {
             "size": 9
            },
            "type": "scatterpolar"
           }
          ],
          "scatterpolargl": [
           {
            "line": {
             "width": 3
            },
            "marker": {
             "size": 9
            },
            "type": "scatterpolargl"
           }
          ],
          "scatterternary": [
           {
            "line": {
             "width": 3
            },
            "marker": {
             "size": 9
            },
            "type": "scatterternary"
           }
          ],
          "table": [
           {
            "cells": {
             "height": 30
            },
            "header": {
             "height": 36
            },
            "type": "table"
           }
          ]
         },
         "layout": {
          "font": {
           "size": 18
          },
          "xaxis": {
           "title": {
            "standoff": 15
           }
          },
          "yaxis": {
           "title": {
            "standoff": 15
           }
          }
         }
        },
        "title": {
         "text": "Total Impressions Over Platform"
        },
        "width": 1000,
        "xaxis": {
         "anchor": "y",
         "autorange": true,
         "domain": [
          0,
          1
         ],
         "range": [
          -0.5,
          4.5
         ],
         "title": {
          "text": "Platform"
         },
         "type": "category"
        },
        "yaxis": {
         "anchor": "x",
         "autorange": true,
         "domain": [
          0,
          1
         ],
         "range": [
          0,
          129461493.68421052
         ],
         "title": {
          "text": "Impressions"
         },
         "type": "linear"
        }
       }
      },
      "image/png": "[encoded data removed]"
     },
     "metadata": {},
     "output_type": "display_data"
    }
   ],
   "source": [
    "platform_impressions =social_media_df.groupby(\"platform\")[\"impressions\"].sum().reset_index().sort_values(by=\"impressions\", ascending=False)\n",
    "\n",
    "fig = px.bar(\n",
    "    platform_impressions,\n",
    "    x=\"platform\",\n",
    "    y=\"impressions\",\n",
    "    title=\"Total Impressions Over Platform\",\n",
    "    color_discrete_sequence=[\"#003f5c\"],\n",
    "    text='impressions' # Add this line to set the text for labels\n",
    ")\n",
    "fig.update_traces(width=0.6, textposition='outside') # Add textposition\n",
    "fig.update_layout(template='presentation',xaxis_title='Platform',\n",
    "                  yaxis_title='Impressions',\n",
    "                  paper_bgcolor='rgba(0,0,0,0)', plot_bgcolor='rgba(0,0,0,0)',\n",
    "                  height=600, width=1000) # Adjust height and width here\n",
    "fig.show()\n",
    "fig.write_image(os.path.join(results_dir,'Total_Impressions_bar_chart.jpg'))\n",
    "fig.write_image(os.path.join(results_dir,'Total_Impressions_bar_chart.png'))\n",
    "fig.write_html(os.path.join(results_dir,'Total_Impressions_bar_chart.html'))"
   ]
  },
  {
   "cell_type": "markdown",
   "id": "613ee551-4c69-4f27-a7e0-778b7915aa6f",
   "metadata": {},
   "source": [
    "### Calculate  Sentiment Distribution\n",
    "This cell groups the DataFrame by the 'sentiment_label' column and counts the number of occurrences for each sentiment label. The result is stored in a new DataFrame showing the total count for each sentiment."
   ]
  },
  {
   "cell_type": "code",
   "execution_count": 24,
   "id": "105bba9f-e93d-41f6-b83b-750d2ba933ab",
   "metadata": {},
   "outputs": [
    {
     "data": {
      "text/html": [
       "<div>\n",
       "<style scoped>\n",
       "    .dataframe tbody tr th:only-of-type {\n",
       "        vertical-align: middle;\n",
       "    }\n",
       "\n",
       "    .dataframe tbody tr th {\n",
       "        vertical-align: top;\n",
       "    }\n",
       "\n",
       "    .dataframe thead th {\n",
       "        text-align: right;\n",
       "    }\n",
       "</style>\n",
       "<table border=\"1\" class=\"dataframe\">\n",
       "  <thead>\n",
       "    <tr style=\"text-align: right;\">\n",
       "      <th></th>\n",
       "      <th>sentiment_label</th>\n",
       "      <th>total</th>\n",
       "    </tr>\n",
       "  </thead>\n",
       "  <tbody>\n",
       "    <tr>\n",
       "      <th>0</th>\n",
       "      <td>Negative</td>\n",
       "      <td>4854</td>\n",
       "    </tr>\n",
       "    <tr>\n",
       "      <th>1</th>\n",
       "      <td>Neutral</td>\n",
       "      <td>2307</td>\n",
       "    </tr>\n",
       "    <tr>\n",
       "      <th>2</th>\n",
       "      <td>Positive</td>\n",
       "      <td>4839</td>\n",
       "    </tr>\n",
       "  </tbody>\n",
       "</table>\n",
       "</div>"
      ],
      "text/plain": [
       "  sentiment_label  total\n",
       "0        Negative   4854\n",
       "1         Neutral   2307\n",
       "2        Positive   4839"
      ]
     },
     "execution_count": 24,
     "metadata": {},
     "output_type": "execute_result"
    }
   ],
   "source": [
    "social_media_df = social_media_df.groupby('sentiment_label').size().reset_index(name='total')\n",
    "social_media_df"
   ]
  },
  {
   "cell_type": "markdown",
   "id": "e2053817-8e9b-4efb-a054-37e1ec9df856",
   "metadata": {},
   "source": [
    "### Visualize Sentiment Distribution\n",
    "This cell creates a pie chart using plotly.express to visualize the distribution of sentiment labels. The chart is customized with a title and a light blue background, and the legend title is set. The chart is then displayed and saved in multiple formats (JPG, PNG, HTML)."
   ]
  },
  {
   "cell_type": "code",
   "execution_count": 26,
   "id": "2400bf51-110c-4b63-ae94-057a73b682f6",
   "metadata": {},
   "outputs": [
    {
     "data": {
      "application/vnd.plotly.v1+json": {
       "config": {
        "plotlyServerURL": "https://plot.ly"
       },
       "data": [
        {
         "domain": {
          "x": [
           0,
           1
          ],
          "y": [
           0,
           1
          ]
         },
         "hovertemplate": "sentiment_label=%{label}<br>total=%{value}<extra></extra>",
         "labels": [
          "Negative",
          "Neutral",
          "Positive"
         ],
         "legendgroup": "",
         "name": "",
         "showlegend": true,
         "type": "pie",
         "values": {
          "_inputArray": {
           "0": 4854,
           "1": 2307,
           "2": 4839,
           "bdata": "9hIDCecS",
           "dtype": "i2",
           "shape": "3"
          },
          "bdata": "9hIDCecS",
          "dtype": "i2"
         }
        }
       ],
       "layout": {
        "autosize": true,
        "legend": {
         "title": {
          "text": "Sentiment Level"
         },
         "tracegroupgap": 0
        },
        "paper_bgcolor": "#ADD8E6",
        "plot_bgcolor": "#ADD8E6",
        "template": {
         "data": {
          "pie": [
           {
            "automargin": true,
            "type": "pie"
           }
          ],
          "scatter": [
           {
            "line": {
             "width": 3
            },
            "marker": {
             "size": 9
            },
            "type": "scatter"
           }
          ],
          "scatter3d": [
           {
            "line": {
             "width": 3
            },
            "marker": {
             "size": 9
            },
            "type": "scatter3d"
           }
          ],
          "scattergeo": [
           {
            "line": {
             "width": 3
            },
            "marker": {
             "size": 9
            },
            "type": "scattergeo"
           }
          ],
          "scattergl": [
           {
            "line": {
             "width": 3
            },
            "marker": {
             "size": 9
            },
            "type": "scattergl"
           }
          ],
          "scatterpolar": [
           {
            "line": {
             "width": 3
            },
            "marker": {
             "size": 9
            },
            "type": "scatterpolar"
           }
          ],
          "scatterpolargl": [
           {
            "line": {
             "width": 3
            },
            "marker": {
             "size": 9
            },
            "type": "scatterpolargl"
           }
          ],
          "scatterternary": [
           {
            "line": {
             "width": 3
            },
            "marker": {
             "size": 9
            },
            "type": "scatterternary"
           }
          ],
          "table": [
           {
            "cells": {
             "height": 30
            },
            "header": {
             "height": 36
            },
            "type": "table"
           }
          ]
         },
         "layout": {
          "font": {
           "size": 18
          },
          "xaxis": {
           "title": {
            "standoff": 15
           }
          },
          "yaxis": {
           "title": {
            "standoff": 15
           }
          }
         }
        },
        "title": {
         "text": "Sentiment Distribution"
        }
       }
      },
      "image/png": "[encoded data removed]"
     },
     "metadata": {},
     "output_type": "display_data"
    }
   ],
   "source": [
    "\n",
    "# Create the pie chart\n",
    "fig = px.pie(social_media_df, names='sentiment_label', values='total', title='Sentiment Distribution')\n",
    "\n",
    "# Set light blue background\n",
    "fig.update_layout(\n",
    "    template='presentation',\n",
    "    paper_bgcolor='#ADD8E6',  # Light blue background\n",
    "    plot_bgcolor='#ADD8E6',   # Light blue plot background\n",
    "    legend_title=dict(text='Sentiment Level')\n",
    ")\n",
    "\n",
    "# Show the chart\n",
    "fig.show()\n",
    "\n",
    "# Save the chart in different formats\n",
    "fig.write_image(os.path.join(results_dir, 'Sentiment_distribution_pie_chart.jpg'))\n",
    "fig.write_image(os.path.join(results_dir, 'Sentiment_distribution_pie_chart.png'))\n",
    "fig.write_html(os.path.join(results_dir, 'Sentiment_distribution_pie_chart.html'))\n"
   ]
  },
  {
   "cell_type": "markdown",
   "id": "6dbdea40-26d4-476d-9c58-e6b1f7ab9fd9",
   "metadata": {},
   "source": [
    "## Post Performance"
   ]
  },
  {
   "cell_type": "code",
   "execution_count": 34,
   "id": "0983b29e-3a80-442c-b1b1-5420fd7276f7",
   "metadata": {},
   "outputs": [
    {
     "name": "stdout",
     "output_type": "stream",
     "text": [
      "Index(['post_id', 'day_of_week', 'platform', 'user_id', 'location', 'language',\n",
      "       'text_content', 'hashtags', 'mentions', 'keywords', 'topic_category',\n",
      "       'sentiment_score', 'sentiment_label', 'emotion_type', 'toxicity_score',\n",
      "       'likes_count', 'shares_count', 'comments_count', 'impressions',\n",
      "       'engagement_rate', 'brand_name', 'product_name', 'campaign_name',\n",
      "       'campaign_phase', 'user_past_sentiment_avg', 'user_engagement_growth',\n",
      "       'buzz_change_rate', 'post_date', 'post_time'],\n",
      "      dtype='object')\n"
     ]
    }
   ],
   "source": [
    "print(social_media_df.columns)"
   ]
  },
  {
   "cell_type": "markdown",
   "id": "21915465-f44e-4446-ad36-51013a0bdffe",
   "metadata": {},
   "source": [
    "### Visualize Likes and Comments Count by Platform\n",
    "This cell calculates the total likes and comments for each platform by grouping the data and summing the respective columns. It then creates a grouped horizontal bar chart using plotly.graph_objects to visualize the engagement metrics per platform. The chart is customized with titles, colors, and layout settings."
   ]
  },
  {
   "cell_type": "code",
   "execution_count": 54,
   "id": "7efcaefe-825c-49b7-b30a-d2e77477538f",
   "metadata": {},
   "outputs": [
    {
     "data": {
      "application/vnd.plotly.v1+json": {
       "config": {
        "plotlyServerURL": "https://plot.ly"
       },
       "data": [
        {
         "marker": {
          "color": "#00008B"
         },
         "name": "Likes Count",
         "orientation": "h",
         "type": "bar",
         "x": {
          "_inputArray": {
           "0": 5883120,
           "1": 5901643,
           "2": 5925053,
           "3": 6045720,
           "4": 6133107,
           "bdata": "8MRZAEsNWgC9aFoAGEBcAHOVXQA=",
           "dtype": "i4",
           "shape": "5"
          },
          "bdata": "8MRZAEsNWgC9aFoAGEBcAHOVXQA=",
          "dtype": "i4"
         },
         "y": [
          "Twitter",
          "Instagram",
          "Reddit",
          "YouTube",
          "Facebook"
         ]
        },
        {
         "marker": {
          "color": "#FFA500"
         },
         "name": "Comments Count",
         "orientation": "h",
         "type": "bar",
         "x": {
          "_inputArray": {
           "0": 1216353,
           "1": 1172787,
           "2": 1216551,
           "3": 1235523,
           "4": 1210935,
           "bdata": "YY8SADPlEQAnkBIAQ9oSADd6EgA=",
           "dtype": "i4",
           "shape": "5"
          },
          "bdata": "YY8SADPlEQAnkBIAQ9oSADd6EgA=",
          "dtype": "i4"
         },
         "y": [
          "Twitter",
          "Instagram",
          "Reddit",
          "YouTube",
          "Facebook"
         ]
        }
       ],
       "layout": {
        "barmode": "group",
        "height": 500,
        "margin": {
         "b": 50,
         "l": 150,
         "r": 50,
         "t": 50
        },
        "paper_bgcolor": "#ADD8E6",
        "plot_bgcolor": "#ADD8E6",
        "template": {
         "data": {
          "pie": [
           {
            "automargin": true,
            "type": "pie"
           }
          ],
          "scatter": [
           {
            "line": {
             "width": 3
            },
            "marker": {
             "size": 9
            },
            "type": "scatter"
           }
          ],
          "scatter3d": [
           {
            "line": {
             "width": 3
            },
            "marker": {
             "size": 9
            },
            "type": "scatter3d"
           }
          ],
          "scattergeo": [
           {
            "line": {
             "width": 3
            },
            "marker": {
             "size": 9
            },
            "type": "scattergeo"
           }
          ],
          "scattergl": [
           {
            "line": {
             "width": 3
            },
            "marker": {
             "size": 9
            },
            "type": "scattergl"
           }
          ],
          "scatterpolar": [
           {
            "line": {
             "width": 3
            },
            "marker": {
             "size": 9
            },
            "type": "scatterpolar"
           }
          ],
          "scatterpolargl": [
           {
            "line": {
             "width": 3
            },
            "marker": {
             "size": 9
            },
            "type": "scatterpolargl"
           }
          ],
          "scatterternary": [
           {
            "line": {
             "width": 3
            },
            "marker": {
             "size": 9
            },
            "type": "scatterternary"
           }
          ],
          "table": [
           {
            "cells": {
             "height": 30
            },
            "header": {
             "height": 36
            },
            "type": "table"
           }
          ]
         },
         "layout": {
          "font": {
           "size": 18
          },
          "xaxis": {
           "title": {
            "standoff": 15
           }
          },
          "yaxis": {
           "title": {
            "standoff": 15
           }
          }
         }
        },
        "title": {
         "text": "Total Likes and Comments Count by Platform"
        },
        "width": 1100,
        "xaxis": {
         "autorange": true,
         "range": [
          0,
          6455902.105263158
         ],
         "title": {
          "text": "Count"
         },
         "type": "linear"
        },
        "yaxis": {
         "autorange": true,
         "range": [
          -0.5,
          4.5
         ],
         "title": {
          "text": "Platform"
         },
         "type": "category"
        }
       }
      },
      "image/png": "[encoded data removed]"
     },
     "metadata": {},
     "output_type": "display_data"
    }
   ],
   "source": [
    "import pandas as pd\n",
    "import plotly.express as px\n",
    "import plotly.graph_objects as go # Import graph_objects for more control over bar charts\n",
    "\n",
    "# Re-read the data if social_media_df was modified\n",
    "# Assuming social_media_data_filename still points to your cleaned data\n",
    "try:\n",
    "    social_media_df = pd.read_csv(social_media_data_filename)\n",
    "except FileNotFoundError:\n",
    "    print(f\"File {social_media_data_filename} not found. Please check the file path.\")\n",
    "\n",
    "# Group by platform and sum likes_count and comments_count\n",
    "platform_engagement_metrics = social_media_df.groupby('platform')[['likes_count', 'comments_count']].sum().reset_index()\n",
    "\n",
    "# Sort the results (optional, but can make the chart easier to read)\n",
    "# For this example, let's sort by total likes_count\n",
    "platform_engagement_metrics = platform_engagement_metrics.sort_values('likes_count', ascending=True)\n",
    "\n",
    "# Now, let's create a grouped bar chart using plotly.graph_objects\n",
    "fig = go.Figure(data=[\n",
    "    go.Bar(name='Likes Count', y=platform_engagement_metrics['platform'], x=platform_engagement_metrics['likes_count'], orientation='h', marker_color='#00008B'), # Dark Blue\n",
    "    go.Bar(name='Comments Count', y=platform_engagement_metrics['platform'], x=platform_engagement_metrics['comments_count'], orientation='h', marker_color='#FFA500') # Orange\n",
    "])\n",
    "\n",
    "# Update the layout for the grouped bar chart\n",
    "fig.update_layout(\n",
    "    barmode='group', # This creates the grouped bars\n",
    "    title=\"Total Likes and Comments Count by Platform\",\n",
    "    xaxis_title='Count',\n",
    "    yaxis_title='Platform',\n",
    "    height=500,\n",
    "    width=1100,\n",
    "    margin=dict(l=150, r=50, t=50, b=50),\n",
    "    paper_bgcolor='#ADD8E6',  # Light blue background\n",
    "    plot_bgcolor='#ADD8E6',    # Light blue plot background\n",
    "    template='presentation'\n",
    ")\n",
    "\n",
    "fig.show()"
   ]
  },
  {
   "cell_type": "markdown",
   "id": "a7607111-d7c6-4691-a2bd-9f08a33cb1dd",
   "metadata": {},
   "source": [
    " ### Visualize Average Engagement Rate Over Months in 2024"
   ]
  },
  {
   "cell_type": "code",
   "execution_count": 44,
   "id": "e123ff81-16d1-412d-9c0a-9198a3ad8923",
   "metadata": {},
   "outputs": [
    {
     "data": {
      "application/vnd.plotly.v1+json": {
       "config": {
        "plotlyServerURL": "https://plot.ly"
       },
       "data": [
        {
         "hovertemplate": "month=%{x}<br>engagement_rate=%{y}<extra></extra>",
         "legendgroup": "",
         "line": {
          "color": "red",
          "dash": "solid"
         },
         "marker": {
          "symbol": "circle"
         },
         "mode": "lines",
         "name": "",
         "orientation": "v",
         "showlegend": false,
         "type": "scatter",
         "x": [
          "2024-05",
          "2024-06",
          "2024-07",
          "2024-08",
          "2024-09",
          "2024-10",
          "2024-11",
          "2024-12"
         ],
         "xaxis": "x",
         "y": {
          "_inputArray": {
           "0": 0.29505505780346825,
           "1": 0.22523465781409602,
           "2": 0.24627934738955823,
           "3": 0.2826168078817734,
           "4": 0.27097390143737166,
           "5": 0.23510517978620019,
           "6": 0.326860243902439,
           "7": 0.2587470241545894,
           "bdata": "H0Lymy7i0j+gX55AfdTMP7vzW+cUhs8/h7zJzmQW0j/yjS/rolfRP6WlJjHtF84/lxt7Okfr1D8mmqutT4/QPw==",
           "dtype": "f8",
           "shape": "8"
          },
          "bdata": "H0Lymy7i0j+gX55AfdTMP7vzW+cUhs8/h7zJzmQW0j/yjS/rolfRP6WlJjHtF84/lxt7Okfr1D8mmqutT4/QPw==",
          "dtype": "f8"
         },
         "yaxis": "y"
        }
       ],
       "layout": {
        "height": 400,
        "legend": {
         "tracegroupgap": 0
        },
        "margin": {
         "b": 50,
         "l": 80,
         "r": 20,
         "t": 50
        },
        "paper_bgcolor": "white",
        "plot_bgcolor": "white",
        "template": {
         "data": {
          "pie": [
           {
            "automargin": true,
            "type": "pie"
           }
          ],
          "scatter": [
           {
            "line": {
             "width": 3
            },
            "marker": {
             "size": 9
            },
            "type": "scatter"
           }
          ],
          "scatter3d": [
           {
            "line": {
             "width": 3
            },
            "marker": {
             "size": 9
            },
            "type": "scatter3d"
           }
          ],
          "scattergeo": [
           {
            "line": {
             "width": 3
            },
            "marker": {
             "size": 9
            },
            "type": "scattergeo"
           }
          ],
          "scattergl": [
           {
            "line": {
             "width": 3
            },
            "marker": {
             "size": 9
            },
            "type": "scattergl"
           }
          ],
          "scatterpolar": [
           {
            "line": {
             "width": 3
            },
            "marker": {
             "size": 9
            },
            "type": "scatterpolar"
           }
          ],
          "scatterpolargl": [
           {
            "line": {
             "width": 3
            },
            "marker": {
             "size": 9
            },
            "type": "scatterpolargl"
           }
          ],
          "scatterternary": [
           {
            "line": {
             "width": 3
            },
            "marker": {
             "size": 9
            },
            "type": "scatterternary"
           }
          ],
          "table": [
           {
            "cells": {
             "height": 30
            },
            "header": {
             "height": 36
            },
            "type": "table"
           }
          ]
         },
         "layout": {
          "font": {
           "size": 18
          },
          "xaxis": {
           "title": {
            "standoff": 15
           }
          },
          "yaxis": {
           "title": {
            "standoff": 15
           }
          }
         }
        },
        "title": {
         "text": "Average Engagement Rate Over Months in 2024"
        },
        "width": 800,
        "xaxis": {
         "anchor": "y",
         "autorange": true,
         "domain": [
          0,
          1
         ],
         "range": [
          "2024-05-01",
          "2024-12-01"
         ],
         "title": {
          "text": "Month"
         },
         "type": "date"
        },
        "yaxis": {
         "anchor": "x",
         "autorange": true,
         "domain": [
          0,
          1
         ],
         "range": [
          0.21958879192029918,
          0.33250610979623585
         ],
         "tickangle": 0,
         "title": {
          "text": "Average Engagement Rate"
         },
         "type": "linear"
        }
       }
      },
      "image/png": "[encoded data removed]"
     },
     "metadata": {},
     "output_type": "display_data"
    }
   ],
   "source": [
    "import pandas as pd\n",
    "import plotly.express as px\n",
    "\n",
    "# Re-read the data if social_media_df was modified\n",
    "# Assuming social_media_data_filename still points to your cleaned data\n",
    "try:\n",
    "    social_media_df = pd.read_csv(social_media_data_filename)\n",
    "except FileNotFoundError:\n",
    "    print(f\"File {social_media_data_filename} not found. Please check the file path.\")\n",
    "\n",
    "# Ensure 'post_date' is in datetime format\n",
    "social_media_df['post_date'] = pd.to_datetime(social_media_df['post_date'])\n",
    "\n",
    "# Filter data for the year 2024\n",
    "df_2024 = social_media_df[social_media_df['post_date'].dt.year == 2024].copy()\n",
    "\n",
    "# Extract month and group by month to calculate the mean engagement rate\n",
    "df_2024['month'] = df_2024['post_date'].dt.to_period('M')\n",
    "monthly_engagement = df_2024.groupby('month')['engagement_rate'].mean().reset_index()\n",
    "\n",
    "# Convert the month period back to a string for plotting\n",
    "monthly_engagement['month'] = monthly_engagement['month'].astype(str)\n",
    "\n",
    "# Sort by month to ensure the line chart is ordered correctly\n",
    "monthly_engagement = monthly_engagement.sort_values(by='month')\n",
    "\n",
    "# Create the 2D line chart\n",
    "fig = px.line(\n",
    "    monthly_engagement,\n",
    "    x='month',\n",
    "    y='engagement_rate',\n",
    "    title='Average Engagement Rate Over Months in 2024',\n",
    ")\n",
    "\n",
    "# Update the layout for the line chart\n",
    "fig.update_layout(\n",
    "    template='presentation',\n",
    "    xaxis_title='Month',\n",
    "    yaxis_title='Average Engagement Rate',\n",
    "    paper_bgcolor='white',  # White background\n",
    "    plot_bgcolor='white',    # White plot background\n",
    "    # Reduced height and width for a smaller chart\n",
    "    height=400,\n",
    "    width=800,\n",
    "    # Adjust margins if needed to give more space for labels\n",
    "    margin=dict(l=80, r=20, t=50, b=50),\n",
    "    # Increase tick angle if labels are long and overlapping\n",
    "    yaxis=dict(tickangle=0) # Adjust tickangle for y-axis labels if necessary\n",
    ")\n",
    "\n",
    "# Update the line color to red\n",
    "fig.update_traces(line_color='red')\n",
    "\n",
    "fig.show()"
   ]
  },
  {
   "cell_type": "markdown",
   "id": "bc34e715-ebbe-4b71-9506-0058da36cd92",
   "metadata": {},
   "source": [
    "### Post Distribution Across Dates\n",
    "This cell calculates the number of posts for each date by grouping the data by 'post_date' and counting the occurrences. It then creates a line chart using plotly.express to visualize the number of posts over time. The chart is customized with titles, axis labels, background colors, and line color."
   ]
  },
  {
   "cell_type": "code",
   "execution_count": 49,
   "id": "ea93395c-5085-4329-8c6b-6c74056bdaea",
   "metadata": {},
   "outputs": [
    {
     "data": {
      "application/vnd.plotly.v1+json": {
       "config": {
        "plotlyServerURL": "https://plot.ly"
       },
       "data": [
        {
         "hovertemplate": "post_date=%{x}<br>number_of_posts=%{y}<extra></extra>",
         "legendgroup": "",
         "line": {
          "color": "lightgreen",
          "dash": "solid"
         },
         "marker": {
          "symbol": "circle"
         },
         "mode": "lines",
         "name": "",
         "orientation": "v",
         "showlegend": false,
         "type": "scatter",
         "x": [
          "2024-05-01T00:00:00",
          "2024-05-02T00:00:00",
          "2024-05-03T00:00:00",
          "2024-05-04T00:00:00",
          "2024-05-05T00:00:00",
          "2024-05-06T00:00:00",
          "2024-05-07T00:00:00",
          "2024-05-08T00:00:00",
          "2024-05-09T00:00:00",
          "2024-05-10T00:00:00",
          "2024-05-11T00:00:00",
          "2024-05-12T00:00:00",
          "2024-05-13T00:00:00",
          "2024-05-14T00:00:00",
          "2024-05-15T00:00:00",
          "2024-05-16T00:00:00",
          "2024-05-17T00:00:00",
          "2024-05-18T00:00:00",
          "2024-05-19T00:00:00",
          "2024-05-20T00:00:00",
          "2024-05-21T00:00:00",
          "2024-05-22T00:00:00",
          "2024-05-23T00:00:00",
          "2024-05-24T00:00:00",
          "2024-05-25T00:00:00",
          "2024-05-26T00:00:00",
          "2024-05-27T00:00:00",
          "2024-05-28T00:00:00",
          "2024-05-29T00:00:00",
          "2024-05-30T00:00:00",
          "2024-05-31T00:00:00",
          "2024-06-01T00:00:00",
          "2024-06-02T00:00:00",
          "2024-06-03T00:00:00",
          "2024-06-04T00:00:00",
          "2024-06-05T00:00:00",
          "2024-06-06T00:00:00",
          "2024-06-07T00:00:00",
          "2024-06-08T00:00:00",
          "2024-06-09T00:00:00",
          "2024-06-10T00:00:00",
          "2024-06-11T00:00:00",
          "2024-06-12T00:00:00",
          "2024-06-13T00:00:00",
          "2024-06-14T00:00:00",
          "2024-06-15T00:00:00",
          "2024-06-16T00:00:00",
          "2024-06-17T00:00:00",
          "2024-06-18T00:00:00",
          "2024-06-19T00:00:00",
          "2024-06-20T00:00:00",
          "2024-06-21T00:00:00",
          "2024-06-22T00:00:00",
          "2024-06-23T00:00:00",
          "2024-06-24T00:00:00",
          "2024-06-25T00:00:00",
          "2024-06-26T00:00:00",
          "2024-06-27T00:00:00",
          "2024-06-28T00:00:00",
          "2024-06-29T00:00:00",
          "2024-06-30T00:00:00",
          "2024-07-01T00:00:00",
          "2024-07-02T00:00:00",
          "2024-07-03T00:00:00",
          "2024-07-04T00:00:00",
          "2024-07-05T00:00:00",
          "2024-07-06T00:00:00",
          "2024-07-07T00:00:00",
          "2024-07-08T00:00:00",
          "2024-07-09T00:00:00",
          "2024-07-10T00:00:00",
          "2024-07-11T00:00:00",
          "2024-07-12T00:00:00",
          "2024-07-13T00:00:00",
          "2024-07-14T00:00:00",
          "2024-07-15T00:00:00",
          "2024-07-16T00:00:00",
          "2024-07-17T00:00:00",
          "2024-07-18T00:00:00",
          "2024-07-19T00:00:00",
          "2024-07-20T00:00:00",
          "2024-07-21T00:00:00",
          "2024-07-22T00:00:00",
          "2024-07-23T00:00:00",
          "2024-07-24T00:00:00",
          "2024-07-25T00:00:00",
          "2024-07-26T00:00:00",
          "2024-07-27T00:00:00",
          "2024-07-28T00:00:00",
          "2024-07-29T00:00:00",
          "2024-07-30T00:00:00",
          "2024-07-31T00:00:00",
          "2024-08-01T00:00:00",
          "2024-08-02T00:00:00",
          "2024-08-03T00:00:00",
          "2024-08-04T00:00:00",
          "2024-08-05T00:00:00",
          "2024-08-06T00:00:00",
          "2024-08-07T00:00:00",
          "2024-08-08T00:00:00",
          "2024-08-09T00:00:00",
          "2024-08-10T00:00:00",
          "2024-08-11T00:00:00",
          "2024-08-12T00:00:00",
          "2024-08-13T00:00:00",
          "2024-08-14T00:00:00",
          "2024-08-15T00:00:00",
          "2024-08-16T00:00:00",
          "2024-08-17T00:00:00",
          "2024-08-18T00:00:00",
          "2024-08-19T00:00:00",
          "2024-08-20T00:00:00",
          "2024-08-21T00:00:00",
          "2024-08-22T00:00:00",
          "2024-08-23T00:00:00",
          "2024-08-24T00:00:00",
          "2024-08-25T00:00:00",
          "2024-08-26T00:00:00",
          "2024-08-27T00:00:00",
          "2024-08-28T00:00:00",
          "2024-08-29T00:00:00",
          "2024-08-30T00:00:00",
          "2024-08-31T00:00:00",
          "2024-09-01T00:00:00",
          "2024-09-02T00:00:00",
          "2024-09-03T00:00:00",
          "2024-09-04T00:00:00",
          "2024-09-05T00:00:00",
          "2024-09-06T00:00:00",
          "2024-09-07T00:00:00",
          "2024-09-08T00:00:00",
          "2024-09-09T00:00:00",
          "2024-09-10T00:00:00",
          "2024-09-11T00:00:00",
          "2024-09-12T00:00:00",
          "2024-09-13T00:00:00",
          "2024-09-14T00:00:00",
          "2024-09-15T00:00:00",
          "2024-09-16T00:00:00",
          "2024-09-17T00:00:00",
          "2024-09-18T00:00:00",
          "2024-09-19T00:00:00",
          "2024-09-20T00:00:00",
          "2024-09-21T00:00:00",
          "2024-09-22T00:00:00",
          "2024-09-23T00:00:00",
          "2024-09-24T00:00:00",
          "2024-09-25T00:00:00",
          "2024-09-26T00:00:00",
          "2024-09-27T00:00:00",
          "2024-09-28T00:00:00",
          "2024-09-29T00:00:00",
          "2024-09-30T00:00:00",
          "2024-10-01T00:00:00",
          "2024-10-02T00:00:00",
          "2024-10-03T00:00:00",
          "2024-10-04T00:00:00",
          "2024-10-05T00:00:00",
          "2024-10-06T00:00:00",
          "2024-10-07T00:00:00",
          "2024-10-08T00:00:00",
          "2024-10-09T00:00:00",
          "2024-10-10T00:00:00",
          "2024-10-11T00:00:00",
          "2024-10-12T00:00:00",
          "2024-10-13T00:00:00",
          "2024-10-14T00:00:00",
          "2024-10-15T00:00:00",
          "2024-10-16T00:00:00",
          "2024-10-17T00:00:00",
          "2024-10-18T00:00:00",
          "2024-10-19T00:00:00",
          "2024-10-20T00:00:00",
          "2024-10-21T00:00:00",
          "2024-10-22T00:00:00",
          "2024-10-23T00:00:00",
          "2024-10-24T00:00:00",
          "2024-10-25T00:00:00",
          "2024-10-26T00:00:00",
          "2024-10-27T00:00:00",
          "2024-10-28T00:00:00",
          "2024-10-29T00:00:00",
          "2024-10-30T00:00:00",
          "2024-10-31T00:00:00",
          "2024-11-01T00:00:00",
          "2024-11-02T00:00:00",
          "2024-11-03T00:00:00",
          "2024-11-04T00:00:00",
          "2024-11-05T00:00:00",
          "2024-11-06T00:00:00",
          "2024-11-07T00:00:00",
          "2024-11-08T00:00:00",
          "2024-11-09T00:00:00",
          "2024-11-10T00:00:00",
          "2024-11-11T00:00:00",
          "2024-11-12T00:00:00",
          "2024-11-13T00:00:00",
          "2024-11-14T00:00:00",
          "2024-11-15T00:00:00",
          "2024-11-16T00:00:00",
          "2024-11-17T00:00:00",
          "2024-11-18T00:00:00",
          "2024-11-19T00:00:00",
          "2024-11-20T00:00:00",
          "2024-11-21T00:00:00",
          "2024-11-22T00:00:00",
          "2024-11-23T00:00:00",
          "2024-11-24T00:00:00",
          "2024-11-25T00:00:00",
          "2024-11-26T00:00:00",
          "2024-11-27T00:00:00",
          "2024-11-28T00:00:00",
          "2024-11-29T00:00:00",
          "2024-11-30T00:00:00",
          "2024-12-01T00:00:00",
          "2024-12-02T00:00:00",
          "2024-12-03T00:00:00",
          "2024-12-04T00:00:00",
          "2024-12-05T00:00:00",
          "2024-12-06T00:00:00",
          "2024-12-07T00:00:00",
          "2024-12-08T00:00:00",
          "2024-12-09T00:00:00",
          "2024-12-10T00:00:00",
          "2024-12-11T00:00:00",
          "2024-12-12T00:00:00",
          "2024-12-13T00:00:00",
          "2024-12-14T00:00:00",
          "2024-12-15T00:00:00",
          "2024-12-16T00:00:00",
          "2024-12-17T00:00:00",
          "2024-12-18T00:00:00",
          "2024-12-19T00:00:00",
          "2024-12-20T00:00:00",
          "2024-12-21T00:00:00",
          "2024-12-22T00:00:00",
          "2024-12-23T00:00:00",
          "2024-12-24T00:00:00",
          "2024-12-25T00:00:00",
          "2024-12-26T00:00:00",
          "2024-12-27T00:00:00",
          "2024-12-28T00:00:00",
          "2024-12-29T00:00:00",
          "2024-12-30T00:00:00",
          "2024-12-31T00:00:00",
          "2025-01-01T00:00:00",
          "2025-01-02T00:00:00",
          "2025-01-03T00:00:00",
          "2025-01-04T00:00:00",
          "2025-01-05T00:00:00",
          "2025-01-06T00:00:00",
          "2025-01-07T00:00:00",
          "2025-01-08T00:00:00",
          "2025-01-09T00:00:00",
          "2025-01-10T00:00:00",
          "2025-01-11T00:00:00",
          "2025-01-12T00:00:00",
          "2025-01-13T00:00:00",
          "2025-01-14T00:00:00",
          "2025-01-15T00:00:00",
          "2025-01-16T00:00:00",
          "2025-01-17T00:00:00",
          "2025-01-18T00:00:00",
          "2025-01-19T00:00:00",
          "2025-01-20T00:00:00",
          "2025-01-21T00:00:00",
          "2025-01-22T00:00:00",
          "2025-01-23T00:00:00",
          "2025-01-24T00:00:00",
          "2025-01-25T00:00:00",
          "2025-01-26T00:00:00",
          "2025-01-27T00:00:00",
          "2025-01-28T00:00:00",
          "2025-01-29T00:00:00",
          "2025-01-30T00:00:00",
          "2025-01-31T00:00:00",
          "2025-02-01T00:00:00",
          "2025-02-02T00:00:00",
          "2025-02-03T00:00:00",
          "2025-02-04T00:00:00",
          "2025-02-05T00:00:00",
          "2025-02-06T00:00:00",
          "2025-02-07T00:00:00",
          "2025-02-08T00:00:00",
          "2025-02-09T00:00:00",
          "2025-02-10T00:00:00",
          "2025-02-11T00:00:00",
          "2025-02-12T00:00:00",
          "2025-02-13T00:00:00",
          "2025-02-14T00:00:00",
          "2025-02-15T00:00:00",
          "2025-02-16T00:00:00",
          "2025-02-17T00:00:00",
          "2025-02-18T00:00:00",
          "2025-02-19T00:00:00",
          "2025-02-20T00:00:00",
          "2025-02-21T00:00:00",
          "2025-02-22T00:00:00",
          "2025-02-23T00:00:00",
          "2025-02-24T00:00:00",
          "2025-02-25T00:00:00",
          "2025-02-26T00:00:00",
          "2025-02-27T00:00:00",
          "2025-02-28T00:00:00",
          "2025-03-01T00:00:00",
          "2025-03-02T00:00:00",
          "2025-03-03T00:00:00",
          "2025-03-04T00:00:00",
          "2025-03-05T00:00:00",
          "2025-03-06T00:00:00",
          "2025-03-07T00:00:00",
          "2025-03-08T00:00:00",
          "2025-03-09T00:00:00",
          "2025-03-10T00:00:00",
          "2025-03-11T00:00:00",
          "2025-03-12T00:00:00",
          "2025-03-13T00:00:00",
          "2025-03-14T00:00:00",
          "2025-03-15T00:00:00",
          "2025-03-16T00:00:00",
          "2025-03-17T00:00:00",
          "2025-03-18T00:00:00",
          "2025-03-19T00:00:00",
          "2025-03-20T00:00:00",
          "2025-03-21T00:00:00",
          "2025-03-22T00:00:00",
          "2025-03-23T00:00:00",
          "2025-03-24T00:00:00",
          "2025-03-25T00:00:00",
          "2025-03-26T00:00:00",
          "2025-03-27T00:00:00",
          "2025-03-28T00:00:00",
          "2025-03-29T00:00:00",
          "2025-03-30T00:00:00",
          "2025-03-31T00:00:00",
          "2025-04-01T00:00:00",
          "2025-04-02T00:00:00",
          "2025-04-03T00:00:00",
          "2025-04-04T00:00:00",
          "2025-04-05T00:00:00",
          "2025-04-06T00:00:00",
          "2025-04-07T00:00:00",
          "2025-04-08T00:00:00",
          "2025-04-09T00:00:00",
          "2025-04-10T00:00:00",
          "2025-04-11T00:00:00",
          "2025-04-12T00:00:00",
          "2025-04-13T00:00:00",
          "2025-04-14T00:00:00",
          "2025-04-15T00:00:00",
          "2025-04-16T00:00:00",
          "2025-04-17T00:00:00",
          "2025-04-18T00:00:00",
          "2025-04-19T00:00:00",
          "2025-04-20T00:00:00",
          "2025-04-21T00:00:00",
          "2025-04-22T00:00:00",
          "2025-04-23T00:00:00",
          "2025-04-24T00:00:00",
          "2025-04-25T00:00:00",
          "2025-04-26T00:00:00",
          "2025-04-27T00:00:00",
          "2025-04-28T00:00:00",
          "2025-04-29T00:00:00",
          "2025-04-30T00:00:00"
         ],
         "xaxis": "x",
         "y": {
          "_inputArray": {
           "0": 37,
           "1": 44,
           "10": 19,
           "100": 37,
           "101": 31,
           "102": 36,
           "103": 29,
           "104": 29,
           "105": 50,
           "106": 33,
           "107": 34,
           "108": 37,
           "109": 32,
           "11": 27,
           "110": 39,
           "111": 21,
           "112": 30,
           "113": 32,
           "114": 31,
           "115": 30,
           "116": 36,
           "117": 39,
           "118": 30,
           "119": 31,
           "12": 44,
           "120": 40,
           "121": 26,
           "122": 36,
           "123": 23,
           "124": 29,
           "125": 39,
           "126": 37,
           "127": 28,
           "128": 37,
           "129": 38,
           "13": 32,
           "130": 37,
           "131": 41,
           "132": 26,
           "133": 33,
           "134": 29,
           "135": 34,
           "136": 32,
           "137": 34,
           "138": 32,
           "139": 39,
           "14": 39,
           "140": 36,
           "141": 23,
           "142": 30,
           "143": 28,
           "144": 38,
           "145": 18,
           "146": 29,
           "147": 23,
           "148": 44,
           "149": 41,
           "15": 36,
           "150": 38,
           "151": 29,
           "152": 29,
           "153": 37,
           "154": 26,
           "155": 35,
           "156": 34,
           "157": 21,
           "158": 31,
           "159": 33,
           "16": 37,
           "160": 37,
           "161": 30,
           "162": 40,
           "163": 37,
           "164": 35,
           "165": 32,
           "166": 32,
           "167": 29,
           "168": 27,
           "169": 31,
           "17": 35,
           "170": 38,
           "171": 33,
           "172": 31,
           "173": 42,
           "174": 36,
           "175": 34,
           "176": 37,
           "177": 35,
           "178": 27,
           "179": 36,
           "18": 18,
           "180": 35,
           "181": 27,
           "182": 35,
           "183": 36,
           "184": 31,
           "185": 32,
           "186": 36,
           "187": 31,
           "188": 34,
           "189": 45,
           "19": 26,
           "190": 39,
           "191": 35,
           "192": 36,
           "193": 36,
           "194": 32,
           "195": 41,
           "196": 38,
           "197": 38,
           "198": 33,
           "199": 33,
           "2": 22,
           "20": 36,
           "200": 37,
           "201": 31,
           "202": 27,
           "203": 23,
           "204": 36,
           "205": 42,
           "206": 35,
           "207": 31,
           "208": 33,
           "209": 32,
           "21": 41,
           "210": 27,
           "211": 41,
           "212": 26,
           "213": 34,
           "214": 41,
           "215": 42,
           "216": 25,
           "217": 34,
           "218": 35,
           "219": 29,
           "22": 38,
           "220": 40,
           "221": 30,
           "222": 35,
           "223": 41,
           "224": 43,
           "225": 32,
           "226": 30,
           "227": 26,
           "228": 33,
           "229": 31,
           "23": 32,
           "230": 41,
           "231": 38,
           "232": 34,
           "233": 27,
           "234": 29,
           "235": 28,
           "236": 32,
           "237": 27,
           "238": 35,
           "239": 35,
           "24": 32,
           "240": 32,
           "241": 27,
           "242": 38,
           "243": 34,
           "244": 31,
           "245": 28,
           "246": 25,
           "247": 26,
           "248": 38,
           "249": 32,
           "25": 30,
           "250": 25,
           "251": 34,
           "252": 40,
           "253": 30,
           "254": 29,
           "255": 19,
           "256": 31,
           "257": 41,
           "258": 19,
           "259": 37,
           "26": 34,
           "260": 30,
           "261": 32,
           "262": 31,
           "263": 33,
           "264": 28,
           "265": 40,
           "266": 43,
           "267": 25,
           "268": 46,
           "269": 49,
           "27": 32,
           "270": 37,
           "271": 37,
           "272": 34,
           "273": 26,
           "274": 23,
           "275": 39,
           "276": 36,
           "277": 35,
           "278": 35,
           "279": 35,
           "28": 36,
           "280": 30,
           "281": 31,
           "282": 33,
           "283": 40,
           "284": 37,
           "285": 26,
           "286": 33,
           "287": 36,
           "288": 25,
           "289": 33,
           "29": 51,
           "290": 38,
           "291": 21,
           "292": 33,
           "293": 26,
           "294": 48,
           "295": 24,
           "296": 39,
           "297": 31,
           "298": 31,
           "299": 32,
           "3": 26,
           "30": 32,
           "300": 43,
           "301": 26,
           "302": 28,
           "303": 29,
           "304": 44,
           "305": 33,
           "306": 31,
           "307": 29,
           "308": 29,
           "309": 28,
           "31": 25,
           "310": 28,
           "311": 36,
           "312": 39,
           "313": 28,
           "314": 40,
           "315": 33,
           "316": 38,
           "317": 35,
           "318": 29,
           "319": 30,
           "32": 36,
           "320": 33,
           "321": 30,
           "322": 27,
           "323": 27,
           "324": 34,
           "325": 36,
           "326": 23,
           "327": 24,
           "328": 26,
           "329": 41,
           "33": 28,
           "330": 38,
           "331": 33,
           "332": 29,
           "333": 42,
           "334": 40,
           "335": 46,
           "336": 24,
           "337": 23,
           "338": 30,
           "339": 37,
           "34": 32,
           "340": 22,
           "341": 40,
           "342": 35,
           "343": 24,
           "344": 30,
           "345": 32,
           "346": 31,
           "347": 37,
           "348": 30,
           "349": 36,
           "35": 30,
           "350": 24,
           "351": 33,
           "352": 32,
           "353": 40,
           "354": 41,
           "355": 30,
           "356": 27,
           "357": 34,
           "358": 33,
           "359": 26,
           "36": 37,
           "360": 34,
           "361": 35,
           "362": 38,
           "363": 39,
           "364": 32,
           "37": 33,
           "38": 33,
           "39": 33,
           "4": 35,
           "40": 35,
           "41": 33,
           "42": 35,
           "43": 33,
           "44": 28,
           "45": 18,
           "46": 54,
           "47": 39,
           "48": 33,
           "49": 25,
           "5": 39,
           "50": 29,
           "51": 26,
           "52": 47,
           "53": 28,
           "54": 26,
           "55": 37,
           "56": 41,
           "57": 34,
           "58": 32,
           "59": 30,
           "6": 25,
           "60": 29,
           "61": 40,
           "62": 33,
           "63": 31,
           "64": 39,
           "65": 42,
           "66": 25,
           "67": 33,
           "68": 35,
           "69": 30,
           "7": 32,
           "70": 28,
           "71": 31,
           "72": 38,
           "73": 29,
           "74": 24,
           "75": 25,
           "76": 20,
           "77": 32,
           "78": 25,
           "79": 43,
           "8": 34,
           "80": 30,
           "81": 35,
           "82": 33,
           "83": 32,
           "84": 30,
           "85": 37,
           "86": 32,
           "87": 31,
           "88": 38,
           "89": 34,
           "9": 37,
           "90": 23,
           "91": 38,
           "92": 30,
           "93": 34,
           "94": 19,
           "95": 32,
           "96": 32,
           "97": 29,
           "98": 39,
           "99": 31,
           "bdata": "JSwWGiMnGSAiJRMbLCAnJCUjEhokKSYgIB4iICQzIBkkHCAeJSEhISMhIyEcEjYnIRkdGi8cGiUpIiAeHSghHycqGSEjHhwfJh0YGRQgGSseIyEgHiUgHyYiFyYeIhMgIB0nHyUfJB0dMiEiJSAnFR4gHx4kJx4fKBokFx0nJRwlJiUpGiEdIiAiICckFx4cJhIdFywpJh0dJRojIhUfISUeKCUjICAdGx8mIR8qJCIlIxskIxsjJB8gJB8iLScjJCQgKSYmISElHxsXJCojHyEgGykaIikqGSIjHSgeIykrIB4aIR8pJiIbHRwgGyMjIBsmIh8cGRomIBkiKB4dEx8pEyUeIB8hHCgrGS4xJSUiGhcnJCMjIx4fISglGiEkGSEmFSEaMBgnHx8gKxocHSwhHx0dHBwkJxwoISYjHR4hHhsbIiQXGBopJiEdKiguGBceJRYoIxgeIB8lHiQYISAoKR4bIiEaIiMmJyA=",
           "dtype": "i1",
           "shape": "365"
          },
          "bdata": "JSwWGiMnGSAiJRMbLCAnJCUjEhokKSYgIB4iICQzIBkkHCAeJSEhISMhIyEcEjYnIRkdGi8cGiUpIiAeHSghHycqGSEjHhwfJh0YGRQgGSseIyEgHiUgHyYiFyYeIhMgIB0nHyUfJB0dMiEiJSAnFR4gHx4kJx4fKBokFx0nJRwlJiUpGiEdIiAiICckFx4cJhIdFywpJh0dJRojIhUfISUeKCUjICAdGx8mIR8qJCIlIxskIxsjJB8gJB8iLScjJCQgKSYmISElHxsXJCojHyEgGykaIikqGSIjHSgeIykrIB4aIR8pJiIbHRwgGyMjIBsmIh8cGRomIBkiKB4dEx8pEyUeIB8hHCgrGS4xJSUiGhcnJCMjIx4fISglGiEkGSEmFSEaMBgnHx8gKxocHSwhHx0dHBwkJxwoISYjHR4hHhsbIiQXGBopJiEdKiguGBceJRYoIxgeIB8lHiQYISAoKR4bIiEaIiMmJyA=",
          "dtype": "i1"
         },
         "yaxis": "y"
        }
       ],
       "layout": {
        "height": 500,
        "legend": {
         "tracegroupgap": 0
        },
        "margin": {
         "b": 50,
         "l": 50,
         "r": 50,
         "t": 50
        },
        "paper_bgcolor": "white",
        "plot_bgcolor": "white",
        "template": {
         "data": {
          "pie": [
           {
            "automargin": true,
            "type": "pie"
           }
          ],
          "scatter": [
           {
            "line": {
             "width": 3
            },
            "marker": {
             "size": 9
            },
            "type": "scatter"
           }
          ],
          "scatter3d": [
           {
            "line": {
             "width": 3
            },
            "marker": {
             "size": 9
            },
            "type": "scatter3d"
           }
          ],
          "scattergeo": [
           {
            "line": {
             "width": 3
            },
            "marker": {
             "size": 9
            },
            "type": "scattergeo"
           }
          ],
          "scattergl": [
           {
            "line": {
             "width": 3
            },
            "marker": {
             "size": 9
            },
            "type": "scattergl"
           }
          ],
          "scatterpolar": [
           {
            "line": {
             "width": 3
            },
            "marker": {
             "size": 9
            },
            "type": "scatterpolar"
           }
          ],
          "scatterpolargl": [
           {
            "line": {
             "width": 3
            },
            "marker": {
             "size": 9
            },
            "type": "scatterpolargl"
           }
          ],
          "scatterternary": [
           {
            "line": {
             "width": 3
            },
            "marker": {
             "size": 9
            },
            "type": "scatterternary"
           }
          ],
          "table": [
           {
            "cells": {
             "height": 30
            },
            "header": {
             "height": 36
            },
            "type": "table"
           }
          ]
         },
         "layout": {
          "font": {
           "size": 18
          },
          "xaxis": {
           "title": {
            "standoff": 15
           }
          },
          "yaxis": {
           "title": {
            "standoff": 15
           }
          }
         }
        },
        "title": {
         "text": "Number of Posts Over Time"
        },
        "width": 1000,
        "xaxis": {
         "anchor": "y",
         "autorange": true,
         "domain": [
          0,
          1
         ],
         "range": [
          "2024-05-01",
          "2025-04-30"
         ],
         "title": {
          "text": "Date"
         },
         "type": "date"
        },
        "yaxis": {
         "anchor": "x",
         "autorange": true,
         "domain": [
          0,
          1
         ],
         "range": [
          16,
          56
         ],
         "title": {
          "text": "Number of Posts"
         },
         "type": "linear"
        }
       }
      },
      "image/png": "[encoded data removed]"
     },
     "metadata": {},
     "output_type": "display_data"
    }
   ],
   "source": [
    "import pandas as pd\n",
    "import plotly.express as px\n",
    "\n",
    "# Re-read the data if social_media_df was modified\n",
    "# Assuming social_media_data_filename still points to your cleaned data\n",
    "try:\n",
    "    social_media_df = pd.read_csv(social_media_data_filename)\n",
    "except FileNotFoundError:\n",
    "    print(f\"File {social_media_data_filename} not found. Please check the file path.\")\n",
    "\n",
    "# Ensure 'post_date' is in datetime format\n",
    "social_media_df['post_date'] = pd.to_datetime(social_media_df['post_date'])\n",
    "\n",
    "# Count the number of posts per date\n",
    "posts_by_date = social_media_df.groupby('post_date').size().reset_index(name='number_of_posts')\n",
    "\n",
    "# Sort by date to ensure the line chart is ordered correctly\n",
    "posts_by_date = posts_by_date.sort_values(by='post_date')\n",
    "\n",
    "# Create the line chart using Plotly Express\n",
    "fig = px.line(\n",
    "    posts_by_date,\n",
    "    x='post_date',\n",
    "    y='number_of_posts',\n",
    "    title='Number of Posts Over Time',\n",
    ")\n",
    "\n",
    "# Update the layout for the line chart\n",
    "fig.update_layout(\n",
    "    template='presentation',\n",
    "    xaxis_title='Date',\n",
    "    yaxis_title='Number of Posts',\n",
    "    paper_bgcolor='white',  # White background\n",
    "    plot_bgcolor='white',    # White plot background\n",
    "    height=500,\n",
    "    width=1000,\n",
    "    margin=dict(l=50, r=50, t=50, b=50)\n",
    ")\n",
    "\n",
    "# Update the line color to blue\n",
    "fig.update_traces(line_color='lightgreen')\n",
    "\n",
    "fig.show()"
   ]
  },
  {
   "cell_type": "markdown",
   "id": "539a36c9-5ded-4587-80a9-9b5702cc883b",
   "metadata": {},
   "source": [
    "### Top Platform by Posts\n",
    "This cell defines a function plot_top_platforms that creates a bar chart to visualize the number of posts for the top social media platforms. It uses predefined data for platforms and post counts and creates a bar chart using matplotlib.pyplot. The chart is customized with a title, axis labels, and value labels on the bars. The chart is then displayed and saved in multiple formats (JPG, PNG, HTML)."
   ]
  },
  {
   "cell_type": "code",
   "execution_count": 50,
   "id": "ac71853e-1bbb-4b51-9671-be7ad09d97c8",
   "metadata": {},
   "outputs": [
    {
     "data": {
      "image/png": "[encoded data removed]",
      "text/plain": [
       "<Figure size 800x500 with 1 Axes>"
      ]
     },
     "metadata": {},
     "output_type": "display_data"
    }
   ],
   "source": [
    "\n",
    "def plot_top_platforms():\n",
    "    platforms = ['Instagram', 'YouTube', 'Facebook', 'Twitter', 'Reddit']\n",
    "    posts = [2355, 2436, 2431, 2406, 2372]  # Approximate values from the image\n",
    "    \n",
    "    plt.figure(figsize=(8, 5))\n",
    "    bars = plt.bar(platforms, posts, color=('#003f5c'))\n",
    "    \n",
    "    # Add value labels\n",
    "    for bar in bars:\n",
    "        height = bar.get_height()\n",
    "        plt.text(bar.get_x() + bar.get_width()/2., height,\n",
    "                 f'{int(height)}',\n",
    "                 ha='center', va='bottom')\n",
    "    \n",
    "    plt.title('Top Platform by Posts', fontsize=14)\n",
    "    plt.ylabel('Number of Posts')\n",
    "    plt.ylim(0, 4500)\n",
    "    plt.tight_layout()\n",
    "    plt.show()\n",
    "plot_top_platforms()\n",
    "fig.write_image(os.path.join(results_dir,'Top Platform_bar_chart.jpg'))\n",
    "fig.write_image(os.path.join(results_dir,'Top Platform_bar_chart.png'))\n",
    "fig.write_html(os.path.join(results_dir,'Top Platform_bar_chart.html'))"
   ]
  },
  {
   "cell_type": "code",
   "execution_count": null,
   "id": "3578ead4-a185-400c-9681-d503f3603294",
   "metadata": {},
   "outputs": [],
   "source": [
    "\n",
    "   \n",
    "    \n",
    "   "
   ]
  }
 ],
 "metadata": {
  "kernelspec": {
   "display_name": "Python 3 (ipykernel)",
   "language": "python",
   "name": "python3"
  },
  "language_info": {
   "codemirror_mode": {
    "name": "ipython",
    "version": 3
   },
   "file_extension": ".py",
   "mimetype": "text/x-python",
   "name": "python",
   "nbconvert_exporter": "python",
   "pygments_lexer": "ipython3",
   "version": "3.11.7"
  }
 },
 "nbformat": 4,
 "nbformat_minor": 5
}
